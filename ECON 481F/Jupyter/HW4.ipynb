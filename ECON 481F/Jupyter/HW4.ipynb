{
 "cells": [
  {
   "cell_type": "code",
   "execution_count": 1,
   "id": "ed83e3fd",
   "metadata": {},
   "outputs": [
    {
     "data": {
      "text/plain": [
       "array([ 6, -4, 27])"
      ]
     },
     "execution_count": 1,
     "metadata": {},
     "output_type": "execute_result"
    }
   ],
   "source": [
    "import numpy as np\n",
    "\n",
    "#Problem 1a\n",
    "\n",
    "C = np.array([6, -4, 27])\n",
    "\n",
    "C"
   ]
  },
  {
   "cell_type": "code",
   "execution_count": 2,
   "id": "ea546c90",
   "metadata": {},
   "outputs": [
    {
     "data": {
      "text/plain": [
       "array([[ 6],\n",
       "       [-4],\n",
       "       [27]])"
      ]
     },
     "execution_count": 2,
     "metadata": {},
     "output_type": "execute_result"
    }
   ],
   "source": [
    "#Problem 1b\n",
    "\n",
    "C = C.reshape((3,1))\n",
    "\n",
    "C"
   ]
  },
  {
   "cell_type": "code",
   "execution_count": 3,
   "id": "7898f2eb",
   "metadata": {},
   "outputs": [
    {
     "data": {
      "text/plain": [
       "27"
      ]
     },
     "execution_count": 3,
     "metadata": {},
     "output_type": "execute_result"
    }
   ],
   "source": [
    "#Problem 1c\n",
    "\n",
    "C[2,0]"
   ]
  },
  {
   "cell_type": "code",
   "execution_count": 4,
   "id": "227e784c",
   "metadata": {},
   "outputs": [
    {
     "data": {
      "text/plain": [
       "array([-4, 27])"
      ]
     },
     "execution_count": 4,
     "metadata": {},
     "output_type": "execute_result"
    }
   ],
   "source": [
    "#Problem 1d\n",
    "\n",
    "C[1:,0]"
   ]
  },
  {
   "cell_type": "code",
   "execution_count": 5,
   "id": "202e2e61",
   "metadata": {},
   "outputs": [
    {
     "data": {
      "text/plain": [
       "array([-4, 27])"
      ]
     },
     "execution_count": 5,
     "metadata": {},
     "output_type": "execute_result"
    }
   ],
   "source": [
    "#Problem 1e\n",
    "\n",
    "C[-2:,0]"
   ]
  },
  {
   "cell_type": "code",
   "execution_count": 6,
   "id": "393b6ee9",
   "metadata": {},
   "outputs": [
    {
     "data": {
      "text/plain": [
       "array([[ 1,  1,  1],\n",
       "       [ 0,  2,  5],\n",
       "       [ 2,  5, -1]])"
      ]
     },
     "execution_count": 6,
     "metadata": {},
     "output_type": "execute_result"
    }
   ],
   "source": [
    "#Problem 1f\n",
    "\n",
    "A = np.array([[1,1,1],[0,2,5],[2,5,-1]])\n",
    "\n",
    "A"
   ]
  },
  {
   "cell_type": "code",
   "execution_count": 7,
   "id": "a12fe593",
   "metadata": {},
   "outputs": [
    {
     "data": {
      "text/plain": [
       "5"
      ]
     },
     "execution_count": 7,
     "metadata": {},
     "output_type": "execute_result"
    }
   ],
   "source": [
    "#Problem 1g\n",
    "\n",
    "A[1,2]"
   ]
  },
  {
   "cell_type": "code",
   "execution_count": 8,
   "id": "4d6aaeca",
   "metadata": {},
   "outputs": [
    {
     "data": {
      "text/plain": [
       "array([ 2,  5, -1])"
      ]
     },
     "execution_count": 8,
     "metadata": {},
     "output_type": "execute_result"
    }
   ],
   "source": [
    "#Problem 1h\n",
    "\n",
    "A[2,:]"
   ]
  },
  {
   "cell_type": "code",
   "execution_count": 9,
   "id": "7be09bde",
   "metadata": {},
   "outputs": [
    {
     "data": {
      "text/plain": [
       "array([ 1,  5, -1])"
      ]
     },
     "execution_count": 9,
     "metadata": {},
     "output_type": "execute_result"
    }
   ],
   "source": [
    "#Problem 1i\n",
    "\n",
    "A[:,-1]"
   ]
  },
  {
   "cell_type": "code",
   "execution_count": 10,
   "id": "cb6284aa",
   "metadata": {},
   "outputs": [
    {
     "data": {
      "text/plain": [
       "-21.0"
      ]
     },
     "execution_count": 10,
     "metadata": {},
     "output_type": "execute_result"
    }
   ],
   "source": [
    "#Problem 1j\n",
    "\n",
    "from numpy.linalg import det\n",
    "\n",
    "det(A)\n",
    "\n",
    "#non singular"
   ]
  },
  {
   "cell_type": "markdown",
   "id": "c5f8b805",
   "metadata": {},
   "source": [
    "**Problem 1k**\n",
    "\n",
    "$ x_1 + x_2 + x_3 = 6 $\n",
    "\n",
    "$ 2x_2 + 5x_3 = -4 $\n",
    "\n",
    "$ 2x_1 + 5x_2 - x_3 = 27 $"
   ]
  },
  {
   "cell_type": "code",
   "execution_count": 11,
   "id": "67fb1671",
   "metadata": {},
   "outputs": [
    {
     "data": {
      "text/plain": [
       "array([[ 5.],\n",
       "       [ 3.],\n",
       "       [-2.]])"
      ]
     },
     "execution_count": 11,
     "metadata": {},
     "output_type": "execute_result"
    }
   ],
   "source": [
    "#Problem 1l\n",
    "\n",
    "from numpy.linalg import inv\n",
    "\n",
    "x = inv(A) @ C\n",
    "\n",
    "x"
   ]
  },
  {
   "cell_type": "code",
   "execution_count": 12,
   "id": "76443cfa",
   "metadata": {},
   "outputs": [
    {
     "data": {
      "text/plain": [
       "array([[6.]])"
      ]
     },
     "execution_count": 12,
     "metadata": {},
     "output_type": "execute_result"
    }
   ],
   "source": [
    "#Problem 1m\n",
    "\n",
    "A[0,:].reshape(1,3) @ x"
   ]
  },
  {
   "cell_type": "code",
   "execution_count": 13,
   "id": "47253d97",
   "metadata": {},
   "outputs": [
    {
     "data": {
      "text/plain": [
       "array([[ 6.],\n",
       "       [-4.],\n",
       "       [27.]])"
      ]
     },
     "execution_count": 13,
     "metadata": {},
     "output_type": "execute_result"
    }
   ],
   "source": [
    "#Problem 1n\n",
    "\n",
    "A @ x"
   ]
  },
  {
   "cell_type": "code",
   "execution_count": 14,
   "id": "62786cbb",
   "metadata": {},
   "outputs": [
    {
     "data": {
      "text/plain": [
       "array([[ 1.,  1., 22.]])"
      ]
     },
     "execution_count": 14,
     "metadata": {},
     "output_type": "execute_result"
    }
   ],
   "source": [
    "#Problem 1p\n",
    "\n",
    "x_transpose = x.T\n",
    "\n",
    "x_transpose @ A"
   ]
  },
  {
   "cell_type": "code",
   "execution_count": 15,
   "id": "b8109528",
   "metadata": {},
   "outputs": [
    {
     "data": {
      "text/plain": [
       "array([-4.77879032,  0.72601723,  6.05277309])"
      ]
     },
     "execution_count": 15,
     "metadata": {},
     "output_type": "execute_result"
    }
   ],
   "source": [
    "#Problem 1q\n",
    "\n",
    "eigenvalues, eigenvectors = np.linalg.eig(A)\n",
    "\n",
    "eigenvalues"
   ]
  },
  {
   "cell_type": "markdown",
   "id": "03797a81",
   "metadata": {},
   "source": [
    "**Problem 2.1**\n",
    "\n",
    "Rise. 10-year yield went from 5% to 8.5% and since it's the average expected return of 10 1-year bonds that means in order for the average to be higher the short-term interest rates have to rise relative to the expected values from year 1."
   ]
  },
  {
   "cell_type": "markdown",
   "id": "5086ccb2",
   "metadata": {},
   "source": [
    "**Problem 2.2**\n",
    "\n",
    "Decreased."
   ]
  },
  {
   "cell_type": "code",
   "execution_count": null,
   "id": "17d20c8c",
   "metadata": {},
   "outputs": [],
   "source": []
  }
 ],
 "metadata": {
  "kernelspec": {
   "display_name": "Python 3 (ipykernel)",
   "language": "python",
   "name": "python3"
  },
  "language_info": {
   "codemirror_mode": {
    "name": "ipython",
    "version": 3
   },
   "file_extension": ".py",
   "mimetype": "text/x-python",
   "name": "python",
   "nbconvert_exporter": "python",
   "pygments_lexer": "ipython3",
   "version": "3.9.7"
  }
 },
 "nbformat": 4,
 "nbformat_minor": 5
}
