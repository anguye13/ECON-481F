{
 "cells": [
  {
   "cell_type": "markdown",
   "id": "f6f2c3ba",
   "metadata": {},
   "source": [
    "# Vector\n",
    "\n",
    "- Vector of length n is a sequence of numbers, written as x = $(x_1,...x_n)$ or x = $[x_1,...x_n]$\n",
    "\n",
    "- A 1-by-n vector is a horizontal vector and an n-by-1 vector is a vertical vector\n",
    "\n",
    "- n-by-m is an n row, m column matrix"
   ]
  },
  {
   "cell_type": "code",
   "execution_count": 1,
   "id": "471908f0",
   "metadata": {},
   "outputs": [
    {
     "data": {
      "text/plain": [
       "array([1, 2, 3])"
      ]
     },
     "execution_count": 1,
     "metadata": {},
     "output_type": "execute_result"
    }
   ],
   "source": [
    "import numpy as np\n",
    "\n",
    "x_1d = np.array([1,2,3])\n",
    "\n",
    "x_1d"
   ]
  },
  {
   "cell_type": "code",
   "execution_count": 3,
   "id": "02970782",
   "metadata": {},
   "outputs": [
    {
     "data": {
      "text/plain": [
       "(3,)"
      ]
     },
     "execution_count": 3,
     "metadata": {},
     "output_type": "execute_result"
    }
   ],
   "source": [
    "x_1d.shape"
   ]
  },
  {
   "cell_type": "code",
   "execution_count": 8,
   "id": "4e0f3a6d",
   "metadata": {
    "scrolled": true
   },
   "outputs": [
    {
     "name": "stdout",
     "output_type": "stream",
     "text": [
      "[[1]\n",
      " [2]\n",
      " [3]]\n"
     ]
    }
   ],
   "source": [
    "y_1d = x_1d.reshape((3,1))\n",
    "\n",
    "y_1d"
   ]
  },
  {
   "cell_type": "code",
   "execution_count": 9,
   "id": "c4e2ea36",
   "metadata": {},
   "outputs": [
    {
     "name": "stdout",
     "output_type": "stream",
     "text": [
      "(3, 1)\n"
     ]
    }
   ],
   "source": [
    "y_1d.shape"
   ]
  },
  {
   "cell_type": "code",
   "execution_count": 10,
   "id": "1435f672",
   "metadata": {},
   "outputs": [
    {
     "data": {
      "text/plain": [
       "array([[1, 2, 3]])"
      ]
     },
     "execution_count": 10,
     "metadata": {},
     "output_type": "execute_result"
    }
   ],
   "source": [
    "z_1d = x_1d.reshape((1,3))\n",
    "\n",
    "z_1d"
   ]
  },
  {
   "cell_type": "code",
   "execution_count": 11,
   "id": "6db96a9d",
   "metadata": {},
   "outputs": [
    {
     "data": {
      "text/plain": [
       "(1, 3)"
      ]
     },
     "execution_count": 11,
     "metadata": {},
     "output_type": "execute_result"
    }
   ],
   "source": [
    "z_1d.shape"
   ]
  },
  {
   "cell_type": "markdown",
   "id": "c8fcd95c",
   "metadata": {},
   "source": [
    "# Vector Operations\n",
    "\n",
    "- Addition + Subtraction (of same shape)\n",
    "- Scalar multiplication\n"
   ]
  },
  {
   "cell_type": "code",
   "execution_count": 12,
   "id": "1f8de41f",
   "metadata": {},
   "outputs": [
    {
     "data": {
      "text/plain": [
       "array([[2, 4, 6]])"
      ]
     },
     "execution_count": 12,
     "metadata": {},
     "output_type": "execute_result"
    }
   ],
   "source": [
    "x_1d+z_1d"
   ]
  },
  {
   "cell_type": "code",
   "execution_count": 13,
   "id": "ec2058b2",
   "metadata": {},
   "outputs": [
    {
     "data": {
      "text/plain": [
       "array([[0, 0, 0]])"
      ]
     },
     "execution_count": 13,
     "metadata": {},
     "output_type": "execute_result"
    }
   ],
   "source": [
    "x_1d-z_1d"
   ]
  },
  {
   "cell_type": "code",
   "execution_count": 14,
   "id": "19fa1940",
   "metadata": {},
   "outputs": [
    {
     "data": {
      "text/plain": [
       "array([3, 6, 9])"
      ]
     },
     "execution_count": 14,
     "metadata": {},
     "output_type": "execute_result"
    }
   ],
   "source": [
    "3*x_1d"
   ]
  },
  {
   "cell_type": "code",
   "execution_count": 15,
   "id": "ed335b2c",
   "metadata": {},
   "outputs": [
    {
     "data": {
      "text/plain": [
       "array([0.33333333, 0.66666667, 1.        ])"
      ]
     },
     "execution_count": 15,
     "metadata": {},
     "output_type": "execute_result"
    }
   ],
   "source": [
    "x_1d/3"
   ]
  },
  {
   "cell_type": "markdown",
   "id": "c51e287d",
   "metadata": {},
   "source": [
    "# Transpose\n",
    "\n",
    "Denoted: x' or $x^T$\n",
    "- x = $[x_1,...,x_n]$\n",
    "- $x^T$ = vertical vector $[x_1,...,x_n]$\n"
   ]
  },
  {
   "cell_type": "code",
   "execution_count": 16,
   "id": "cdd372cf",
   "metadata": {},
   "outputs": [
    {
     "data": {
      "text/plain": [
       "array([[1, 2, 3]])"
      ]
     },
     "execution_count": 16,
     "metadata": {},
     "output_type": "execute_result"
    }
   ],
   "source": [
    "y_1d.T"
   ]
  },
  {
   "cell_type": "markdown",
   "id": "dc7077a6",
   "metadata": {},
   "source": [
    "# Dot Product\n",
    "\n",
    "x • y = horizontal • vertical = $x_1•y_1 \\;+\\; ... \\;+ \\;x_n•y_n$ = **integer k**"
   ]
  },
  {
   "cell_type": "code",
   "execution_count": 23,
   "id": "6fcdffb4",
   "metadata": {},
   "outputs": [
    {
     "data": {
      "text/plain": [
       "array([[14]])"
      ]
     },
     "execution_count": 23,
     "metadata": {},
     "output_type": "execute_result"
    }
   ],
   "source": [
    "z_1d @ y_1d #dot product"
   ]
  },
  {
   "cell_type": "code",
   "execution_count": 21,
   "id": "362ff124",
   "metadata": {},
   "outputs": [
    {
     "data": {
      "text/plain": [
       "(1, 3)"
      ]
     },
     "execution_count": 21,
     "metadata": {},
     "output_type": "execute_result"
    }
   ],
   "source": [
    "z_1d.shape #horizontal"
   ]
  },
  {
   "cell_type": "code",
   "execution_count": 22,
   "id": "7ea62de2",
   "metadata": {},
   "outputs": [
    {
     "data": {
      "text/plain": [
       "(3, 1)"
      ]
     },
     "execution_count": 22,
     "metadata": {},
     "output_type": "execute_result"
    }
   ],
   "source": [
    "y_1d.shape #vertical"
   ]
  },
  {
   "cell_type": "markdown",
   "id": "922c85c9",
   "metadata": {},
   "source": [
    "# Element-wise operations\n",
    "\n",
    "not math, just python specific operations"
   ]
  },
  {
   "cell_type": "code",
   "execution_count": 24,
   "id": "44c1790f",
   "metadata": {},
   "outputs": [
    {
     "data": {
      "text/plain": [
       "array([[1, 4, 9]])"
      ]
     },
     "execution_count": 24,
     "metadata": {},
     "output_type": "execute_result"
    }
   ],
   "source": [
    "z_1d * x_1d"
   ]
  },
  {
   "cell_type": "code",
   "execution_count": 25,
   "id": "ba4dee90",
   "metadata": {},
   "outputs": [
    {
     "data": {
      "text/plain": [
       "array([[1., 1., 1.]])"
      ]
     },
     "execution_count": 25,
     "metadata": {},
     "output_type": "execute_result"
    }
   ],
   "source": [
    "z_1d / x_1d"
   ]
  },
  {
   "cell_type": "code",
   "execution_count": 26,
   "id": "e6c5d173",
   "metadata": {},
   "outputs": [
    {
     "data": {
      "text/plain": [
       "array([4, 5, 6])"
      ]
     },
     "execution_count": 26,
     "metadata": {},
     "output_type": "execute_result"
    }
   ],
   "source": [
    "x_1d + 3"
   ]
  },
  {
   "cell_type": "markdown",
   "id": "dd77f391",
   "metadata": {},
   "source": [
    "# Creating arrays"
   ]
  },
  {
   "cell_type": "code",
   "execution_count": 28,
   "id": "1363a340",
   "metadata": {},
   "outputs": [],
   "source": [
    "ls = [0.5, 0.25, 3]\n",
    "x = np.array([ls])"
   ]
  },
  {
   "cell_type": "code",
   "execution_count": 29,
   "id": "47892b4c",
   "metadata": {},
   "outputs": [
    {
     "data": {
      "text/plain": [
       "array([[0.5 , 0.25, 3.  ]])"
      ]
     },
     "execution_count": 29,
     "metadata": {},
     "output_type": "execute_result"
    }
   ],
   "source": [
    "x"
   ]
  },
  {
   "cell_type": "code",
   "execution_count": 34,
   "id": "628e3853",
   "metadata": {},
   "outputs": [],
   "source": [
    "a = np.zeros(5) #default float"
   ]
  },
  {
   "cell_type": "code",
   "execution_count": 31,
   "id": "d3502918",
   "metadata": {},
   "outputs": [
    {
     "data": {
      "text/plain": [
       "array([0., 0., 0., 0., 0.])"
      ]
     },
     "execution_count": 31,
     "metadata": {},
     "output_type": "execute_result"
    }
   ],
   "source": [
    "a"
   ]
  },
  {
   "cell_type": "code",
   "execution_count": 36,
   "id": "4d368200",
   "metadata": {},
   "outputs": [],
   "source": [
    "a = np.zeros(3,dtype=int)"
   ]
  },
  {
   "cell_type": "code",
   "execution_count": 37,
   "id": "56eff722",
   "metadata": {},
   "outputs": [
    {
     "data": {
      "text/plain": [
       "array([0, 0, 0])"
      ]
     },
     "execution_count": 37,
     "metadata": {},
     "output_type": "execute_result"
    }
   ],
   "source": [
    "a"
   ]
  },
  {
   "cell_type": "code",
   "execution_count": 38,
   "id": "ec00c570",
   "metadata": {},
   "outputs": [
    {
     "data": {
      "text/plain": [
       "numpy.int64"
      ]
     },
     "execution_count": 38,
     "metadata": {},
     "output_type": "execute_result"
    }
   ],
   "source": [
    "type(a[1])"
   ]
  },
  {
   "cell_type": "code",
   "execution_count": 39,
   "id": "f4ecb824",
   "metadata": {},
   "outputs": [],
   "source": [
    "b = np.ones(5)"
   ]
  },
  {
   "cell_type": "code",
   "execution_count": 40,
   "id": "34ecf678",
   "metadata": {},
   "outputs": [
    {
     "data": {
      "text/plain": [
       "array([1., 1., 1., 1., 1.])"
      ]
     },
     "execution_count": 40,
     "metadata": {},
     "output_type": "execute_result"
    }
   ],
   "source": [
    "b"
   ]
  },
  {
   "cell_type": "code",
   "execution_count": 41,
   "id": "42a149b6",
   "metadata": {},
   "outputs": [],
   "source": [
    "c = np.empty(6)"
   ]
  },
  {
   "cell_type": "code",
   "execution_count": 42,
   "id": "e4231c25",
   "metadata": {},
   "outputs": [
    {
     "data": {
      "text/plain": [
       "array([0.e+000, 3.e-323, 0.e+000, 0.e+000, 0.e+000, 0.e+000])"
      ]
     },
     "execution_count": 42,
     "metadata": {},
     "output_type": "execute_result"
    }
   ],
   "source": [
    "c"
   ]
  },
  {
   "cell_type": "markdown",
   "id": "ba9cc23f",
   "metadata": {},
   "source": [
    "# Exercise\n",
    "\n",
    "Task: re-write the get_PV function using dot product"
   ]
  },
  {
   "cell_type": "code",
   "execution_count": 62,
   "id": "df8c57b3",
   "metadata": {},
   "outputs": [],
   "source": [
    "def get_PV(FP,i,n):\n",
    "    total = 0\n",
    "    for j in range(n):\n",
    "        total = total + FP/(i+1)**(j+1)\n",
    "    return total"
   ]
  },
  {
   "cell_type": "code",
   "execution_count": 63,
   "id": "b6842570",
   "metadata": {},
   "outputs": [
    {
     "data": {
      "text/plain": [
       "1143.7070422968989"
      ]
     },
     "execution_count": 63,
     "metadata": {},
     "output_type": "execute_result"
    }
   ],
   "source": [
    "get_PV(126,.1,25)"
   ]
  },
  {
   "cell_type": "code",
   "execution_count": 104,
   "id": "3ec9c5e7",
   "metadata": {},
   "outputs": [
    {
     "data": {
      "text/plain": [
       "array([[1143.7070423]])"
      ]
     },
     "execution_count": 104,
     "metadata": {},
     "output_type": "execute_result"
    }
   ],
   "source": [
    "def get_PV2(FP,i,n):\n",
    "    hor_ls = [FP/(1+i)**(t+1) for t in range(n)]\n",
    "    \n",
    "    x_arr = np.array(hor_ls)\n",
    "    x_arr = x_arr.reshape(1,n)\n",
    "    \n",
    "    y_arr = np.ones(n)\n",
    "    y_arr = y_arr.reshape(n,1)\n",
    "    \n",
    "    return x_arr @ y_arr\n",
    "\n",
    "get_PV2(126,.1,25)"
   ]
  },
  {
   "cell_type": "markdown",
   "id": "0966ef75",
   "metadata": {},
   "source": [
    "# Matrices\n",
    "\n",
    "- An n-by-k (or n x k) matrix is a rectangular array A of numbers with n rows and k columns\n",
    "- An n x n matrix is a square matrix\n",
    "- A diagonal matrix is a matrix with 0s everywhere except the diagonal"
   ]
  },
  {
   "cell_type": "code",
   "execution_count": 81,
   "id": "6b486137",
   "metadata": {},
   "outputs": [],
   "source": [
    "my_list = [[1,2,3], [4,5,6], [7,8,9]]\n",
    "\n",
    "x_2d = np.array(my_list)"
   ]
  },
  {
   "cell_type": "code",
   "execution_count": 82,
   "id": "814501e1",
   "metadata": {},
   "outputs": [
    {
     "data": {
      "text/plain": [
       "array([[1, 2, 3],\n",
       "       [4, 5, 6],\n",
       "       [7, 8, 9]])"
      ]
     },
     "execution_count": 82,
     "metadata": {},
     "output_type": "execute_result"
    }
   ],
   "source": [
    "x_2d"
   ]
  },
  {
   "cell_type": "code",
   "execution_count": 83,
   "id": "acfaa440",
   "metadata": {},
   "outputs": [
    {
     "data": {
      "text/plain": [
       "(3, 3)"
      ]
     },
     "execution_count": 83,
     "metadata": {},
     "output_type": "execute_result"
    }
   ],
   "source": [
    "x_2d.shape"
   ]
  },
  {
   "cell_type": "code",
   "execution_count": 89,
   "id": "f3a830cb",
   "metadata": {},
   "outputs": [
    {
     "data": {
      "text/plain": [
       "5"
      ]
     },
     "execution_count": 89,
     "metadata": {},
     "output_type": "execute_result"
    }
   ],
   "source": [
    "x_2d[1,1]"
   ]
  },
  {
   "cell_type": "code",
   "execution_count": 90,
   "id": "81f6a268",
   "metadata": {},
   "outputs": [
    {
     "data": {
      "text/plain": [
       "array([4, 5, 6])"
      ]
     },
     "execution_count": 90,
     "metadata": {},
     "output_type": "execute_result"
    }
   ],
   "source": [
    "x_2d[1,:]"
   ]
  },
  {
   "cell_type": "code",
   "execution_count": 91,
   "id": "d5ad1867",
   "metadata": {},
   "outputs": [
    {
     "data": {
      "text/plain": [
       "array([3, 6, 9])"
      ]
     },
     "execution_count": 91,
     "metadata": {},
     "output_type": "execute_result"
    }
   ],
   "source": [
    "x_2d[:,2]"
   ]
  },
  {
   "cell_type": "markdown",
   "id": "0ef9cd60",
   "metadata": {},
   "source": [
    "# Exercise\n",
    "\n",
    "Find 2nd and 3rd elements in second row"
   ]
  },
  {
   "cell_type": "code",
   "execution_count": 95,
   "id": "3d64cfc9",
   "metadata": {},
   "outputs": [
    {
     "data": {
      "text/plain": [
       "array([5, 6])"
      ]
     },
     "execution_count": 95,
     "metadata": {},
     "output_type": "execute_result"
    }
   ],
   "source": [
    "x_2d[1,1:3]"
   ]
  },
  {
   "cell_type": "code",
   "execution_count": 96,
   "id": "190d9463",
   "metadata": {},
   "outputs": [
    {
     "data": {
      "text/plain": [
       "array([[1, 2, 3, 4, 5, 6, 7, 8, 9]])"
      ]
     },
     "execution_count": 96,
     "metadata": {},
     "output_type": "execute_result"
    }
   ],
   "source": [
    "x_2d.reshape(1,9)"
   ]
  },
  {
   "cell_type": "code",
   "execution_count": 99,
   "id": "5897b346",
   "metadata": {},
   "outputs": [
    {
     "data": {
      "text/plain": [
       "array([[1],\n",
       "       [2],\n",
       "       [3],\n",
       "       [4],\n",
       "       [5],\n",
       "       [6],\n",
       "       [7],\n",
       "       [8],\n",
       "       [9]])"
      ]
     },
     "execution_count": 99,
     "metadata": {},
     "output_type": "execute_result"
    }
   ],
   "source": [
    "x_2d.reshape(9,1)"
   ]
  },
  {
   "cell_type": "code",
   "execution_count": 105,
   "id": "2a2a1b2d",
   "metadata": {},
   "outputs": [],
   "source": [
    "x_2d = x_2d.reshape(1,9)"
   ]
  },
  {
   "cell_type": "code",
   "execution_count": 106,
   "id": "42256402",
   "metadata": {},
   "outputs": [],
   "source": [
    "rows, columns = x_2d.shape"
   ]
  },
  {
   "cell_type": "code",
   "execution_count": null,
   "id": "1dc7a852",
   "metadata": {},
   "outputs": [],
   "source": []
  }
 ],
 "metadata": {
  "kernelspec": {
   "display_name": "Python 3 (ipykernel)",
   "language": "python",
   "name": "python3"
  },
  "language_info": {
   "codemirror_mode": {
    "name": "ipython",
    "version": 3
   },
   "file_extension": ".py",
   "mimetype": "text/x-python",
   "name": "python",
   "nbconvert_exporter": "python",
   "pygments_lexer": "ipython3",
   "version": "3.9.7"
  }
 },
 "nbformat": 4,
 "nbformat_minor": 5
}
