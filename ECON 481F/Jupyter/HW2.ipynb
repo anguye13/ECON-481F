{
 "cells": [
  {
   "cell_type": "code",
   "execution_count": 1,
   "id": "874d1dd2",
   "metadata": {},
   "outputs": [
    {
     "data": {
      "text/plain": [
       "720"
      ]
     },
     "execution_count": 1,
     "metadata": {},
     "output_type": "execute_result"
    }
   ],
   "source": [
    "#problem 1\n",
    "\n",
    "def factorial(n):\n",
    "    product = 1\n",
    "    if n < 0:\n",
    "        return \"invalid input\"\n",
    "    elif n <= 1:\n",
    "        return product\n",
    "    for i in range(1, n+1):\n",
    "        product *= i\n",
    "    return product\n",
    "\n",
    "test = factorial(6)\n",
    "test"
   ]
  },
  {
   "cell_type": "code",
   "execution_count": 2,
   "id": "14b00760",
   "metadata": {},
   "outputs": [
    {
     "name": "stdout",
     "output_type": "stream",
     "text": [
      "2887\n"
     ]
    }
   ],
   "source": [
    "#problem 2\n",
    "\n",
    "import numpy as np\n",
    "\n",
    "x = np.random.rand(10_000)\n",
    "\n",
    "answer = 0\n",
    "\n",
    "for index, value in enumerate(x):\n",
    "    if value > 0.999:\n",
    "        answer = index\n",
    "        break\n",
    "\n",
    "print(answer)"
   ]
  },
  {
   "cell_type": "code",
   "execution_count": 3,
   "id": "491ab8d7",
   "metadata": {},
   "outputs": [
    {
     "name": "stdout",
     "output_type": "stream",
     "text": [
      "2525\n"
     ]
    }
   ],
   "source": [
    "#problem 3\n",
    "\n",
    "import numpy as np\n",
    "\n",
    "x = np.random.rand(10_000)\n",
    "\n",
    "answer = 0\n",
    "\n",
    "while answer < len(x):\n",
    "    if x[answer] > 0.999:\n",
    "        break\n",
    "    answer += 1\n",
    "\n",
    "print(answer)"
   ]
  },
  {
   "cell_type": "code",
   "execution_count": 4,
   "id": "27387d24",
   "metadata": {},
   "outputs": [
    {
     "name": "stdout",
     "output_type": "stream",
     "text": [
      "3769.340679935536\n"
     ]
    }
   ],
   "source": [
    "#problem 4\n",
    "\n",
    "import numpy as np\n",
    "\n",
    "x = np.random.rand(10_000)\n",
    "\n",
    "answer = 0\n",
    "\n",
    "for num in x:\n",
    "    if num >= 0.5:\n",
    "        answer += num\n",
    "    else:\n",
    "        continue\n",
    "\n",
    "print(answer)"
   ]
  },
  {
   "cell_type": "code",
   "execution_count": 5,
   "id": "9b98b5dc",
   "metadata": {},
   "outputs": [
    {
     "name": "stdout",
     "output_type": "stream",
     "text": [
      "The price of FB was 219.55 on Feb 11.\n",
      "The price of AMZN was 3065.87 on Feb 11.\n",
      "The price of AAPL was 168.64 on Feb 11.\n",
      "The price of NFLX was 391.31 on Feb 11.\n",
      "The price of GOOGL was 2685.65 on Feb 11.\n",
      "{'FB': 219.55, 'AMZN': 3065.87, 'AAPL': 168.64, 'NFLX': 391.31, 'GOOGL': 2685.65}\n",
      "{'FB': 219.55, 'AMZN': 3065.87, 'AAPL': 168.64, 'NFLX': 391.31, 'GOOGL': 2685.65}\n",
      "{'FB': 219.55, 'AMZN': 3065.87, 'AAPL': 168.64, 'NFLX': 391.31, 'GOOGL': 2685.65}\n",
      "['FB', 'AMZN', 'AAPL', 'NFLX', 'GOOGL']\n"
     ]
    }
   ],
   "source": [
    "#problem 5\n",
    "\n",
    "#part 1\n",
    "tickers = ('FB', 'AMZN', 'AAPL', 'NFLX', 'GOOGL')\n",
    "prices = [219.55, 3065.87, 168.64, 391.31, 2685.65]\n",
    "\n",
    "for ticker, price in zip(tickers, prices):\n",
    "    print(f\"The price of {ticker} was {price} on Feb 11.\")\n",
    "    \n",
    "#part 2\n",
    "\n",
    "dic = {}\n",
    "\n",
    "for ticker, price in zip(tickers, prices):\n",
    "    dic[ticker] = price\n",
    "\n",
    "print(dic)\n",
    "\n",
    "#part 3\n",
    "\n",
    "other_dic = dict(zip(tickers, prices))\n",
    "print(other_dic)\n",
    "\n",
    "#part 4\n",
    "\n",
    "other_other_dic = {key:value for key, value in zip(tickers, prices)}\n",
    "print(other_other_dic)\n",
    "\n",
    "#part 5\n",
    "\n",
    "ls = [key for key in dic]\n",
    "print(ls)"
   ]
  },
  {
   "cell_type": "code",
   "execution_count": 6,
   "id": "12a6844c",
   "metadata": {},
   "outputs": [],
   "source": [
    "#problem 6\n",
    "\n",
    "def polynomial(x, coeffs):\n",
    "    return_me = 0\n",
    "    \n",
    "    for index, coeff in enumerate(coeffs):\n",
    "        return_me += (coeff)*(x**index)\n",
    "    \n",
    "    return return_me"
   ]
  },
  {
   "cell_type": "code",
   "execution_count": 7,
   "id": "2002d9da",
   "metadata": {},
   "outputs": [
    {
     "name": "stdout",
     "output_type": "stream",
     "text": [
      "3\n",
      "2\n",
      "0\n"
     ]
    }
   ],
   "source": [
    "#problem 7\n",
    "\n",
    "def main(string):\n",
    "    total_caps = 0\n",
    "\n",
    "    for letter in string:\n",
    "        if letter == letter.upper():\n",
    "            total_caps += 1\n",
    "            \n",
    "    return total_caps\n",
    "\n",
    "print(main(\"FOO\"))\n",
    "print(main(\"FoO\"))\n",
    "print(main('foo'))"
   ]
  },
  {
   "cell_type": "code",
   "execution_count": null,
   "id": "381df12b",
   "metadata": {},
   "outputs": [],
   "source": []
  }
 ],
 "metadata": {
  "kernelspec": {
   "display_name": "Python 3 (ipykernel)",
   "language": "python",
   "name": "python3"
  },
  "language_info": {
   "codemirror_mode": {
    "name": "ipython",
    "version": 3
   },
   "file_extension": ".py",
   "mimetype": "text/x-python",
   "name": "python",
   "nbconvert_exporter": "python",
   "pygments_lexer": "ipython3",
   "version": "3.9.7"
  }
 },
 "nbformat": 4,
 "nbformat_minor": 5
}
