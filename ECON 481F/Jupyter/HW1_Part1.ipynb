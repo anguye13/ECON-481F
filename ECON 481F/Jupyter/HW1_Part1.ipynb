{
 "cells": [
  {
   "cell_type": "markdown",
   "id": "a3039885",
   "metadata": {},
   "source": [
    "# Income Inequality\n",
    "\n",
    "\n",
    "**Definition:**\n",
    "According to [Wikipedia](https://en.wikipedia.org/wiki/Income_inequality_in_the_United_States#:~:text=Income%20inequality%20in%20the%20United%20States%20is%20the%20extent%20to,amounts%20among%20the%20American%20population.&text=The%20Gini%20coefficient%20is%20a,and%201%20indicating%20maximum%20inequality), \"Income inequality in the United States is the extent to which income is distributed in differing amounts among the American population.\" \n",
    "\n",
    "**Why Is This A Topic Of Interest/Importance?**  \n",
    "\n",
    "This socioeconomic issue interests me because in the United States we see a very disproportionate distribution of wealth. There are some people who live in poverty and debt meanwhile the top 1% have more money than they could ever spend. This is an important issue because this problem is so widespread, affecting a majority of the population. In fact, this problem is so widespread that it affects not just the United States but nearly the entire world. Another reason this topic is important is because it is not only a socioeconomic issue, but also a moral issue. I believe that while there are people that are suffering due to economic hardships it is amoral for those that can do something about it to not.\n",
    "\n",
    "# Some Facts\n",
    "\n",
    "\n",
    "**1) Rich Get Richer**\n",
    "\n",
    "\n",
    "![picture](https://www.stlouisfed.org/open-vault/2019/august/-/media/project/frbstl/stlouisfed/blog/2019/august/us_household_income_distribution.png)\n",
    "*According to this infographic, in 1989 the share of total pre-tax income for the top 10\\% of income earners was 42\\% and in 2016 increased to 50\\%.*\n",
    "\n",
    "![picture](https://static01.nyt.com/images/2021/07/09/us/covid-fed-qe-promo-1625877657147/covid-fed-qe-promo-1625877657147-videoSixteenByNineJumbo1600-v3.png) *Additionally, the changes in wealth reflect the same idea with the top 1\\% wealthiest Americans accumulating over \\\\$10T between 2008 and 2020 meanwhile the bottom 50\\% accumulated approximately \\\\$2T with this disparity becoming even more drastic during the covid pandemic.*\n",
    "\n",
    "**2) High Inequality In The United States**\n",
    "\n",
    "G7 is a group of seven of the world's advanced economies, consisting of the U.S., UK, Italy, Japan, Canada, Germany, and France. Amongst these seven countries, the United States has the highest gini coefficient which is a measure of the income inequality within a nation. This indicates how the income inequality in the U.S. is relatively high compared to other advanced economies.\n",
    "![picture](https://www.pewresearch.org/wp-content/uploads/2020/02/FT_20.02.04_EconomicInequality_2.png?w=200)\n",
    "\n",
    "# What I'd Like To Learn And How To Go About It\n",
    "\n",
    "I would like to found out about ways to successfully redistribute wealth from those that arguably have an excess of it to those that are suffering due to a lack of it, or for potential ways to create more opportunities for those struggling. Not only do the wealthy already have the luxury of being comfortable, but the fact that their wealth breeds more wealth meanwhile those that are in poverty are trapped without ways to escape is also problematic. During the pandemic a large portion of the population was impacted with small businesses closing down and people being unemployed and yet the wealthiest individuals experienced some of the largest growths in history. To find out more about ways to solve this problem I could research countries that have greater economic equality and see what they do that makes them successful."
   ]
  },
  {
   "cell_type": "code",
   "execution_count": null,
   "id": "329ba0a4",
   "metadata": {},
   "outputs": [],
   "source": []
  }
 ],
 "metadata": {
  "kernelspec": {
   "display_name": "Python 3 (ipykernel)",
   "language": "python",
   "name": "python3"
  },
  "language_info": {
   "codemirror_mode": {
    "name": "ipython",
    "version": 3
   },
   "file_extension": ".py",
   "mimetype": "text/x-python",
   "name": "python",
   "nbconvert_exporter": "python",
   "pygments_lexer": "ipython3",
   "version": "3.9.7"
  }
 },
 "nbformat": 4,
 "nbformat_minor": 5
}
