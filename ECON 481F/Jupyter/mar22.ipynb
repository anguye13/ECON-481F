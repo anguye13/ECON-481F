{
 "cells": [
  {
   "cell_type": "markdown",
   "id": "dd69f602",
   "metadata": {},
   "source": [
    "# Randomness"
   ]
  },
  {
   "cell_type": "code",
   "execution_count": 12,
   "id": "a0469568",
   "metadata": {},
   "outputs": [
    {
     "data": {
      "text/plain": [
       "array([0.31726437, 0.93139936, 0.95925862, 0.27835198, 0.50904164,\n",
       "       0.29277931, 0.19186913, 0.26822926, 0.60173253, 0.73459466])"
      ]
     },
     "execution_count": 12,
     "metadata": {},
     "output_type": "execute_result"
    }
   ],
   "source": [
    "#using numpy\n",
    "\n",
    "import numpy as np\n",
    "import matplotlib.pyplot as plt\n",
    "\n",
    "rng = np.random.default_rng()\n",
    "\n",
    "rng.random(size=10) #uniform distribution in the range [0,1]"
   ]
  },
  {
   "cell_type": "code",
   "execution_count": 13,
   "id": "c27e64eb",
   "metadata": {},
   "outputs": [
    {
     "data": {
      "text/plain": [
       "array([6, 3, 6, 6, 2, 4, 2, 2, 3, 6])"
      ]
     },
     "execution_count": 13,
     "metadata": {},
     "output_type": "execute_result"
    }
   ],
   "source": [
    "rng.integers(1,7,size=10) #7 not included"
   ]
  },
  {
   "cell_type": "code",
   "execution_count": 14,
   "id": "2118aedd",
   "metadata": {},
   "outputs": [
    {
     "data": {
      "text/plain": [
       "array([ 0.15035186,  0.05299627, -0.23387778,  0.50446835,  0.0328151 ,\n",
       "        0.01329528,  0.76115865, -1.08288718,  0.99142874, -0.57577971])"
      ]
     },
     "execution_count": 14,
     "metadata": {},
     "output_type": "execute_result"
    }
   ],
   "source": [
    "rng.normal(size=10) #standard normal"
   ]
  },
  {
   "cell_type": "code",
   "execution_count": 15,
   "id": "16eaefe3",
   "metadata": {},
   "outputs": [
    {
     "data": {
      "text/plain": [
       "array([ 2.42710304,  0.92104768, -0.69455307,  3.10559514, -0.88858822,\n",
       "        6.62441309,  6.38333785, -5.06677226, -4.12573067,  0.60343379])"
      ]
     },
     "execution_count": 15,
     "metadata": {},
     "output_type": "execute_result"
    }
   ],
   "source": [
    "rng.normal(loc=1,scale=4,size=10) #loc := mean, scale := std -> mean = 1, std = 4"
   ]
  },
  {
   "cell_type": "code",
   "execution_count": 16,
   "id": "a87426e0",
   "metadata": {},
   "outputs": [
    {
     "data": {
      "text/plain": [
       "1.015848059045809"
      ]
     },
     "execution_count": 16,
     "metadata": {},
     "output_type": "execute_result"
    }
   ],
   "source": [
    "np.mean(rng.normal(loc=1,scale=4,size=10000))"
   ]
  },
  {
   "cell_type": "code",
   "execution_count": 17,
   "id": "c281e15f",
   "metadata": {},
   "outputs": [
    {
     "data": {
      "text/plain": [
       "3.9769976875938937"
      ]
     },
     "execution_count": 17,
     "metadata": {},
     "output_type": "execute_result"
    }
   ],
   "source": [
    "np.std(rng.normal(loc=1,scale=4,size=10000))"
   ]
  },
  {
   "cell_type": "code",
   "execution_count": 18,
   "id": "f215d741",
   "metadata": {},
   "outputs": [
    {
     "data": {
      "text/plain": [
       "array([ 0,  1,  2,  3,  4,  5,  6,  7,  8,  9, 10, 11, 12, 13, 14, 15, 16,\n",
       "       17, 18])"
      ]
     },
     "execution_count": 18,
     "metadata": {},
     "output_type": "execute_result"
    }
   ],
   "source": [
    "sample = np.arange(19)\n",
    "sample"
   ]
  },
  {
   "cell_type": "code",
   "execution_count": 19,
   "id": "c445625b",
   "metadata": {},
   "outputs": [
    {
     "data": {
      "text/plain": [
       "array([13,  4,  8,  6, 10,  5,  3, 16, 12, 18,  1,  2, 11,  0, 17,  7, 15,\n",
       "       14,  9])"
      ]
     },
     "execution_count": 19,
     "metadata": {},
     "output_type": "execute_result"
    }
   ],
   "source": [
    "rng.shuffle(sample)\n",
    "sample"
   ]
  },
  {
   "cell_type": "markdown",
   "id": "0fcc0cbe",
   "metadata": {},
   "source": [
    "# Scipy\n",
    "\n",
    "1) $.05^{10}$\n",
    "\n",
    "2) $.95^{10}$\n",
    "\n",
    "3) $.05^{2}*.95^{8}*(10 choose 2)$\n",
    "\n",
    "4) $ 1 - (.05*.95^{9}*(10 choose 1) + .95^{10})$"
   ]
  },
  {
   "cell_type": "code",
   "execution_count": 20,
   "id": "d0eede3d",
   "metadata": {},
   "outputs": [
    {
     "data": {
      "text/plain": [
       "'0.000000000000098'"
      ]
     },
     "execution_count": 20,
     "metadata": {},
     "output_type": "execute_result"
    }
   ],
   "source": [
    "answer = .05 **10\n",
    "f'{answer:.15f}'"
   ]
  },
  {
   "cell_type": "code",
   "execution_count": 21,
   "id": "c6efae99",
   "metadata": {},
   "outputs": [
    {
     "data": {
      "text/plain": [
       "0.5987369392383787"
      ]
     },
     "execution_count": 21,
     "metadata": {},
     "output_type": "execute_result"
    }
   ],
   "source": [
    ".95**10"
   ]
  },
  {
   "cell_type": "code",
   "execution_count": 22,
   "id": "ccc23028",
   "metadata": {},
   "outputs": [
    {
     "data": {
      "text/plain": [
       "0.07463479852001952"
      ]
     },
     "execution_count": 22,
     "metadata": {},
     "output_type": "execute_result"
    }
   ],
   "source": [
    "(.05**2)*(.95**8)*(45)"
   ]
  },
  {
   "cell_type": "code",
   "execution_count": 23,
   "id": "4102ecc3",
   "metadata": {},
   "outputs": [
    {
     "data": {
      "text/plain": [
       "0.07463479852001952"
      ]
     },
     "execution_count": 23,
     "metadata": {},
     "output_type": "execute_result"
    }
   ],
   "source": [
    "import math\n",
    "math.comb(10,2)*(.05**2)*(.95**8)"
   ]
  },
  {
   "cell_type": "code",
   "execution_count": 24,
   "id": "6f960e17",
   "metadata": {},
   "outputs": [
    {
     "data": {
      "text/plain": [
       "0.08613835589931673"
      ]
     },
     "execution_count": 24,
     "metadata": {},
     "output_type": "execute_result"
    }
   ],
   "source": [
    "1-(.05*.95**9*math.comb(10,1)+.95**10)"
   ]
  },
  {
   "cell_type": "code",
   "execution_count": 26,
   "id": "ed7a5afc",
   "metadata": {},
   "outputs": [
    {
     "data": {
      "text/plain": [
       "'0.000000000000098'"
      ]
     },
     "execution_count": 26,
     "metadata": {},
     "output_type": "execute_result"
    }
   ],
   "source": [
    "from scipy.stats import binom\n",
    "\n",
    "#pmf: probability mass function\n",
    "f'{binom.pmf(10,10,0.05):.15f}'"
   ]
  },
  {
   "cell_type": "code",
   "execution_count": 27,
   "id": "fdf01332",
   "metadata": {},
   "outputs": [
    {
     "data": {
      "text/plain": [
       "0.5987369392383787"
      ]
     },
     "execution_count": 27,
     "metadata": {},
     "output_type": "execute_result"
    }
   ],
   "source": [
    "binom.pmf(0,10,.05)"
   ]
  },
  {
   "cell_type": "code",
   "execution_count": 28,
   "id": "5932c315",
   "metadata": {},
   "outputs": [
    {
     "data": {
      "text/plain": [
       "0.07463479852001963"
      ]
     },
     "execution_count": 28,
     "metadata": {},
     "output_type": "execute_result"
    }
   ],
   "source": [
    "binom.pmf(2,10,.05)"
   ]
  },
  {
   "cell_type": "code",
   "execution_count": 29,
   "id": "c1b77e9b",
   "metadata": {},
   "outputs": [
    {
     "data": {
      "text/plain": [
       "0.0861383558993164"
      ]
     },
     "execution_count": 29,
     "metadata": {},
     "output_type": "execute_result"
    }
   ],
   "source": [
    "1-binom.cdf(1,10,.05)"
   ]
  },
  {
   "cell_type": "code",
   "execution_count": 32,
   "id": "6e466010",
   "metadata": {},
   "outputs": [
    {
     "data": {
      "image/png": "[encoded data removed]",
      "text/plain": [
       "<Figure size 432x288 with 1 Axes>"
      ]
     },
     "metadata": {
      "needs_background": "light"
     },
     "output_type": "display_data"
    }
   ],
   "source": [
    "x = np.arange(11)\n",
    "\n",
    "fig, ax = plt.subplots()\n",
    "ax.bar(x,binom.pmf(x,10,.05))\n",
    "plt.show()"
   ]
  },
  {
   "cell_type": "code",
   "execution_count": 33,
   "id": "e5dfe06f",
   "metadata": {},
   "outputs": [
    {
     "data": {
      "image/png": "[encoded data removed]",
      "text/plain": [
       "<Figure size 432x288 with 1 Axes>"
      ]
     },
     "metadata": {
      "needs_background": "light"
     },
     "output_type": "display_data"
    }
   ],
   "source": [
    "x = np.arange(11)\n",
    "\n",
    "fig, ax = plt.subplots()\n",
    "ax.bar(x,binom.cdf(x,10,.05))\n",
    "plt.show()"
   ]
  },
  {
   "cell_type": "markdown",
   "id": "faa6d62d",
   "metadata": {},
   "source": [
    "Simulate many draws from the distribution and show the dsitribution of the sample mean - the mean number of unemployed people"
   ]
  },
  {
   "cell_type": "code",
   "execution_count": 34,
   "id": "350682f4",
   "metadata": {},
   "outputs": [
    {
     "data": {
      "text/plain": [
       "array([0, 0, 0, 2, 1, 0, 0, 0, 2, 2])"
      ]
     },
     "execution_count": 34,
     "metadata": {},
     "output_type": "execute_result"
    }
   ],
   "source": [
    "binom.rvs(10,.05,size=10)"
   ]
  },
  {
   "cell_type": "code",
   "execution_count": 35,
   "id": "90a3ae90",
   "metadata": {},
   "outputs": [
    {
     "data": {
      "text/plain": [
       "0.4"
      ]
     },
     "execution_count": 35,
     "metadata": {},
     "output_type": "execute_result"
    }
   ],
   "source": [
    "np.mean(binom.rvs(10,.05,size=10))"
   ]
  },
  {
   "cell_type": "code",
   "execution_count": 36,
   "id": "22a92671",
   "metadata": {},
   "outputs": [],
   "source": [
    "size = 10000\n",
    "means = np.zeros(size)\n",
    "for j in np.arange(size):\n",
    "    means[j] = np.mean(binom.rvs(10,.05,size=10))"
   ]
  },
  {
   "cell_type": "code",
   "execution_count": 37,
   "id": "e5f1f37a",
   "metadata": {},
   "outputs": [
    {
     "data": {
      "image/png": "[encoded data removed]",
      "text/plain": [
       "<Figure size 432x288 with 1 Axes>"
      ]
     },
     "metadata": {
      "needs_background": "light"
     },
     "output_type": "display_data"
    }
   ],
   "source": [
    "fig, ax = plt.subplots()\n",
    "ax.hist(means)\n",
    "plt.show()"
   ]
  },
  {
   "cell_type": "code",
   "execution_count": null,
   "id": "7f091c14",
   "metadata": {},
   "outputs": [],
   "source": []
  }
 ],
 "metadata": {
  "kernelspec": {
   "display_name": "Python 3 (ipykernel)",
   "language": "python",
   "name": "python3"
  },
  "language_info": {
   "codemirror_mode": {
    "name": "ipython",
    "version": 3
   },
   "file_extension": ".py",
   "mimetype": "text/x-python",
   "name": "python",
   "nbconvert_exporter": "python",
   "pygments_lexer": "ipython3",
   "version": "3.9.7"
  }
 },
 "nbformat": 4,
 "nbformat_minor": 5
}
