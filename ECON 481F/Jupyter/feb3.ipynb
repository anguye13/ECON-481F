{
 "cells": [
  {
   "cell_type": "markdown",
   "id": "2446e85d",
   "metadata": {},
   "source": [
    "# Functions and Methods"
   ]
  },
  {
   "cell_type": "code",
   "execution_count": 33,
   "id": "e26df82f",
   "metadata": {},
   "outputs": [],
   "source": [
    "z = ['foo', 1.5, 2.5]\n",
    "z.extend([3,4]) # joins a list onto another (ls += ls2)"
   ]
  },
  {
   "cell_type": "code",
   "execution_count": 5,
   "id": "a749c16d",
   "metadata": {},
   "outputs": [],
   "source": [
    "# latex in coding mode, \\alpha + tab = α"
   ]
  },
  {
   "cell_type": "markdown",
   "id": "53ef5d24",
   "metadata": {},
   "source": [
    "# Unpacking"
   ]
  },
  {
   "cell_type": "code",
   "execution_count": 7,
   "id": "56f5bcc9",
   "metadata": {},
   "outputs": [
    {
     "name": "stdout",
     "output_type": "stream",
     "text": [
      "0\n",
      "1\n"
     ]
    }
   ],
   "source": [
    "x = [0,1]\n",
    "w, z = x\n",
    "print(w)\n",
    "print(z)"
   ]
  },
  {
   "cell_type": "code",
   "execution_count": 10,
   "id": "e1a615f4",
   "metadata": {},
   "outputs": [
    {
     "name": "stdout",
     "output_type": "stream",
     "text": [
      "<class 'range'>\n",
      "<class 'list'>\n"
     ]
    }
   ],
   "source": [
    "x = range(3)\n",
    "\n",
    "print(type(x))\n",
    "\n",
    "print(type(list(x)))"
   ]
  },
  {
   "cell_type": "markdown",
   "id": "65a55ee4",
   "metadata": {},
   "source": [
    "# Exercise 1"
   ]
  },
  {
   "cell_type": "code",
   "execution_count": 25,
   "id": "60a7482a",
   "metadata": {},
   "outputs": [
    {
     "name": "stdout",
     "output_type": "stream",
     "text": [
      "['USA', 'Germany', 'Mexico']\n",
      "['Germany', 'Mexico', 'Canada']\n",
      "['Mexico', 'Canada', 'Argentina']\n",
      "USA\n",
      "Germany\n",
      "Mexico\n",
      "[1, 2]\n",
      "[2, 4, 6, 8]\n"
     ]
    }
   ],
   "source": [
    "ls = ['USA',\"Germany\",\"Mexico\",\"Canada\",\"Argentina\"]\n",
    "\n",
    "print(ls[:3])\n",
    "print(ls[1:4])\n",
    "print(ls[-3:])\n",
    "\n",
    "x, y, z = ls[:3]\n",
    "\n",
    "print(x)\n",
    "print(y)\n",
    "print(z)\n",
    "\n",
    "print(list(range(1,3)))\n",
    "print(list(range(2,9,2)))"
   ]
  },
  {
   "cell_type": "code",
   "execution_count": 27,
   "id": "02fb7065",
   "metadata": {},
   "outputs": [
    {
     "name": "stdout",
     "output_type": "stream",
     "text": [
      "0\n",
      "1\n",
      "2\n"
     ]
    }
   ],
   "source": [
    "for i in range(3): print(i) #one line body"
   ]
  },
  {
   "cell_type": "code",
   "execution_count": 29,
   "id": "051f21da",
   "metadata": {},
   "outputs": [
    {
     "name": "stdout",
     "output_type": "stream",
     "text": [
      "[0, 1, 2]\n"
     ]
    }
   ],
   "source": [
    "print([i for i in range(3)]) #list comprehension"
   ]
  },
  {
   "cell_type": "code",
   "execution_count": 30,
   "id": "a1dcf651",
   "metadata": {},
   "outputs": [
    {
     "name": "stdout",
     "output_type": "stream",
     "text": [
      "a\n",
      "b\n",
      "c\n"
     ]
    }
   ],
   "source": [
    "words = ('a','b','c')\n",
    "x, y, z = words\n",
    "print(x)\n",
    "print(y)\n",
    "print(z)"
   ]
  },
  {
   "cell_type": "markdown",
   "id": "b001f1ce",
   "metadata": {},
   "source": [
    "# Zip and Enumerate"
   ]
  },
  {
   "cell_type": "code",
   "execution_count": 37,
   "id": "a3106b54",
   "metadata": {},
   "outputs": [
    {
     "name": "stdout",
     "output_type": "stream",
     "text": [
      "[('a', 1), ('b', 2), ('c', 3)]\n",
      "[(0, 'a'), (1, 'b'), (2, 'c')]\n"
     ]
    }
   ],
   "source": [
    "x = ['a','b','c']\n",
    "y = [1,2,3]\n",
    "z = zip(x,y)\n",
    "print(list(z))\n",
    "\n",
    "w = enumerate(x)\n",
    "print(list(w))"
   ]
  }
 ],
 "metadata": {
  "kernelspec": {
   "display_name": "Python 3 (ipykernel)",
   "language": "python",
   "name": "python3"
  },
  "language_info": {
   "codemirror_mode": {
    "name": "ipython",
    "version": 3
   },
   "file_extension": ".py",
   "mimetype": "text/x-python",
   "name": "python",
   "nbconvert_exporter": "python",
   "pygments_lexer": "ipython3",
   "version": "3.9.7"
  }
 },
 "nbformat": 4,
 "nbformat_minor": 5
}
