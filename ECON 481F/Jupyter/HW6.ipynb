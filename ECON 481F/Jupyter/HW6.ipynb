{
 "cells": [
  {
   "cell_type": "code",
   "execution_count": 1,
   "id": "3ca08d29",
   "metadata": {},
   "outputs": [],
   "source": [
    "from scipy.optimize import newton\n",
    "import numpy as np\n",
    "import matplotlib.pyplot as plt\n",
    "\n",
    "#Problem 1\n",
    "\n",
    "class Solow:\n",
    "    def __init__(self,n,s,delta,A,alpha,k):\n",
    "        self.n = n\n",
    "        self.s = s\n",
    "        self.delta = delta\n",
    "        self.A = A\n",
    "        self.alpha = alpha\n",
    "        self.k = k #capital per worker\n",
    "    \n",
    "    def update_k(self):\n",
    "        \"\"\"\n",
    "        updates capital per capita from 1 period to the next\n",
    "        \"\"\"\n",
    "        self.k += self.s*self.f(self.k)-(self.delta+self.n)*self.k\n",
    "    \n",
    "    def get_kstar(self):\n",
    "        \"\"\"\n",
    "        computes the steady state level of k\n",
    "        \"\"\"\n",
    "        return newton(lambda kstar: self.s*self.f(kstar)-(self.delta+self.n)*kstar, 5)\n",
    "    \n",
    "    def simulate(self,t):\n",
    "        \"\"\"\n",
    "        simulates the model for t periods, and returns an array of k's\n",
    "        \"\"\"\n",
    "        k_values = np.zeros(t)\n",
    "        k_values[0] = self.k\n",
    "        \n",
    "        for year in np.arange(1,t):\n",
    "            self.update_k()\n",
    "            k_values[year] = self.k\n",
    "        \n",
    "        return k_values\n",
    "    \n",
    "    def f(self,k):\n",
    "        \"\"\"\n",
    "        computes output per worker\n",
    "        \"\"\"\n",
    "        return self.A*(k**self.alpha)"
   ]
  },
  {
   "cell_type": "code",
   "execution_count": 2,
   "id": "5ab8d355",
   "metadata": {},
   "outputs": [
    {
     "name": "stdout",
     "output_type": "stream",
     "text": [
      "China k*: 5.196152422706632 \n",
      "USA k*: 11.180339887498947\n"
     ]
    }
   ],
   "source": [
    "#Problem 2\n",
    "China = Solow(k=0.5, n=0.1, s=0.4, A=1.5, alpha = 1/3, delta = 0.1)\n",
    "\n",
    "USA = Solow(k=3, n = 0.02, s = 0.2, A = 3, alpha = 1/3, delta = 0.1)\n",
    "\n",
    "China_kstar = China.get_kstar()\n",
    "USA_kstar = USA.get_kstar()\n",
    "\n",
    "print(\"China k*:\",China_kstar,\"\\nUSA k*:\",USA_kstar)"
   ]
  },
  {
   "cell_type": "code",
   "execution_count": 3,
   "id": "8f36b138",
   "metadata": {},
   "outputs": [
    {
     "name": "stdout",
     "output_type": "stream",
     "text": [
      "China k's: [0.5        0.87622032 1.27512227 1.67072948 2.04853981 2.4008513\n",
      " 2.72409555 3.01724044 3.2807966  3.5161845  3.7253263  3.91038184\n",
      " 4.07357931 4.21710863 4.34305676 4.45337116 4.54984177 4.63409537\n",
      " 4.70759772 4.77166066 4.82745193 4.87600657 4.9182387  4.95495337\n",
      " 4.98685782 5.01457212 5.03863902 5.05953288 5.07766781 5.09340494\n",
      " 5.10705896 5.11890381 5.12917789 5.13808851 5.14581585 5.1525165\n",
      " 5.15832644 5.16336376 5.16773097 5.17151703 5.17479915 5.1776443\n",
      " 5.18011058 5.18224839 5.18410143 5.18570761 5.18709978 5.18830645\n",
      " 5.18935232 5.1902588 ] \n",
      "\n",
      " USA k's: [ 3.          3.50534974  3.99614837  4.46874539  4.92077545  5.35082021\n",
      "  5.7581628   6.14260604  6.50433588  6.84381784  7.16171796  7.45884204\n",
      "  7.73608897  7.99441492  8.23480581  8.45825638  8.66575435  8.85826861\n",
      "  9.03674057  9.20207799  9.35515074  9.49678814  9.62777741  9.74886314\n",
      "  9.86074734  9.96409019 10.05951102 10.14758969 10.22886816 10.30385213\n",
      " 10.37301287 10.43678897 10.49558822 10.54978933 10.59974378 10.64577745\n",
      " 10.68819231 10.72726798 10.76326327 10.79641754 10.82695211 10.85507153\n",
      " 10.88096475 10.90480625 10.92675715 10.9469661  10.96557028 10.98269625\n",
      " 10.99846069 11.01297122]\n"
     ]
    },
    {
     "data": {
      "image/png": "[encoded data removed]",
      "text/plain": [
       "<Figure size 432x288 with 1 Axes>"
      ]
     },
     "metadata": {
      "needs_background": "light"
     },
     "output_type": "display_data"
    }
   ],
   "source": [
    "#Problem 3\n",
    "China_k_values = China.simulate(50)\n",
    "USA_k_values = USA.simulate(50)\n",
    "\n",
    "print(\"China k's:\",China_k_values,\"\\n\\n\",\"USA k's:\",USA_k_values)\n",
    "\n",
    "plt.plot(np.arange(50),China_k_values,label=\"China\")\n",
    "plt.plot(np.arange(50),USA_k_values,label=\"USA\")\n",
    "\n",
    "plt.legend()\n",
    "plt.xlabel(\"Period\")\n",
    "plt.ylabel(\"k\")\n",
    "plt.title(\"Capital per worker over time\")\n",
    "plt.show()"
   ]
  },
  {
   "cell_type": "code",
   "execution_count": null,
   "id": "be129992",
   "metadata": {},
   "outputs": [],
   "source": []
  }
 ],
 "metadata": {
  "kernelspec": {
   "display_name": "Python 3 (ipykernel)",
   "language": "python",
   "name": "python3"
  },
  "language_info": {
   "codemirror_mode": {
    "name": "ipython",
    "version": 3
   },
   "file_extension": ".py",
   "mimetype": "text/x-python",
   "name": "python",
   "nbconvert_exporter": "python",
   "pygments_lexer": "ipython3",
   "version": "3.9.7"
  }
 },
 "nbformat": 4,
 "nbformat_minor": 5
}
