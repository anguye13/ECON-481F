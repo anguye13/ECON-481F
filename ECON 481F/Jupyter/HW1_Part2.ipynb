{
 "cells": [
  {
   "cell_type": "code",
   "execution_count": 1,
   "id": "fadc07e8",
   "metadata": {},
   "outputs": [
    {
     "name": "stdout",
     "output_type": "stream",
     "text": [
      "<class 'float'> 10000.0\n",
      "<class 'float'> 0.025\n",
      "<class 'int'> 30\n",
      "4767.426851809713\n"
     ]
    }
   ],
   "source": [
    "# Problem 2\n",
    "\n",
    "D = 10000.0\n",
    "r = 0.025\n",
    "T = 30\n",
    "PDV = D / (1 + r)**T\n",
    "\n",
    "print(type(D), D)\n",
    "print(type(r), r)\n",
    "print(type(T), T)\n",
    "print(PDV)"
   ]
  },
  {
   "cell_type": "code",
   "execution_count": 2,
   "id": "95beafba",
   "metadata": {},
   "outputs": [
    {
     "name": "stdout",
     "output_type": "stream",
     "text": [
      "0.029411764705882377\n",
      "0.02898753687325232\n"
     ]
    }
   ],
   "source": [
    "import math\n",
    "\n",
    "# Problem 3\n",
    "\n",
    "x = 1.05\n",
    "y = 1.02\n",
    "\n",
    "actual = (x - y) / y\n",
    "approx = math.log(x) - math.log(y)\n",
    "\n",
    "print(actual)\n",
    "print(approx)"
   ]
  },
  {
   "cell_type": "code",
   "execution_count": 3,
   "id": "ec006d37",
   "metadata": {},
   "outputs": [
    {
     "name": "stdout",
     "output_type": "stream",
     "text": [
      "What's wrong with this string\n"
     ]
    }
   ],
   "source": [
    "# Problem 4\n",
    "\n",
    "#x = 'What's wrong with this string'\n",
    "#apostrophe/quote issue\n",
    "\n",
    "x = \"What's wrong with this string\"\n",
    "\n",
    "print(x)"
   ]
  },
  {
   "cell_type": "code",
   "execution_count": 4,
   "id": "c8d36067",
   "metadata": {},
   "outputs": [
    {
     "name": "stdout",
     "output_type": "stream",
     "text": [
      "True\n",
      "True\n",
      "True\n",
      "True\n",
      "True\n",
      "True\n",
      "False\n",
      "True\n"
     ]
    }
   ],
   "source": [
    "# Problem 5\n",
    "\n",
    "#1\n",
    "x, y = 1, 2\n",
    "print(x < y)\n",
    "#x is assigned the value of 1 and y is assigned the value of 2. x < y is 1 < 2 which is True\n",
    "\n",
    "#2\n",
    "print(1 < 2 < 3)\n",
    "#1 is less than 2 and 2 is less than 3 are both True so 1 < 2 < 3 is True\n",
    "\n",
    "#3\n",
    "print(1 <= 2 <= 3)\n",
    "#1 is less than or equal to 2 and 2 is less than or equal to 3 are both True so 1 <= 2 <= 3 is True\n",
    "\n",
    "#4\n",
    "print(1 != 2)\n",
    "# != means not equal to, thus 1 != 2 is True\n",
    "\n",
    "#5\n",
    "print(1 < 2 and 'f' in 'foo')\n",
    "#1 is less than 2 and 'f' is the first letter of 'foo' so the statement is True\n",
    "\n",
    "#6\n",
    "print(1 < 2 or 'g' in 'foo')\n",
    "#either statement has to be True for the entire statement to be true and since 1 < 2 the statement is True\n",
    "\n",
    "#7\n",
    "print(not True)\n",
    "#not negates the statement thus not True is False\n",
    "\n",
    "#8\n",
    "print(not not True)\n",
    "#not not is a double negation thus True is True"
   ]
  },
  {
   "cell_type": "code",
   "execution_count": 5,
   "id": "9f642718",
   "metadata": {},
   "outputs": [
    {
     "name": "stdout",
     "output_type": "stream",
     "text": [
      "I really love Star Wars\n",
      "True\n",
      "5\n",
      "1\n",
      "['Wars', 'Episode']\n",
      "['I', 'love', 'Star']\n",
      "V\n",
      "['Wars', 'Episode', 'V']\n",
      "['love', 'Star', 'Wars']\n",
      "Star Wars\n",
      "I love Star Wars Episode V\n"
     ]
    }
   ],
   "source": [
    "# Problem 6\n",
    "\n",
    "#1\n",
    "x = input()\n",
    "\n",
    "#2\n",
    "my_list = x.split()\n",
    "\n",
    "#3\n",
    "print(\"love\" in my_list)\n",
    "\n",
    "#4\n",
    "list_length = len(my_list)\n",
    "print(list_length)\n",
    "\n",
    "#5\n",
    "my_list.extend(['Episode', 'V'])\n",
    "\n",
    "#6\n",
    "really_index = my_list.index(\"really\")\n",
    "my_list.pop(really_index)\n",
    "\n",
    "#7\n",
    "love_index = my_list.index(\"love\")\n",
    "print(love_index)\n",
    "\n",
    "#8.1\n",
    "print(my_list[3:5])\n",
    "#returns a list from index 3 (4th item) to index 5 (6th item), but DOES NOT include the item at index 5\n",
    "\n",
    "#8.2\n",
    "first_three = my_list[:3]\n",
    "print(first_three)\n",
    "\n",
    "#8.3\n",
    "last = my_list[-1]\n",
    "print(last)\n",
    "\n",
    "#8.4\n",
    "last_three = my_list[-3:]\n",
    "print(last_three)\n",
    "\n",
    "#8.5\n",
    "print(my_list[-5:-2])\n",
    "#returns a list from index -5 (the 5th to last item) to index -2 (the 2nd to last item),\n",
    "#but DOES NOT include the item at index -2\n",
    "\n",
    "#8.6\n",
    "x, y = my_list[2], my_list[3]\n",
    "print(x, y)\n",
    "\n",
    "#9\n",
    "my_string = \" \".join(my_list)\n",
    "print(my_string)"
   ]
  },
  {
   "cell_type": "code",
   "execution_count": 6,
   "id": "286835dd",
   "metadata": {},
   "outputs": [],
   "source": [
    "# Problem 7\n",
    "\n",
    "my_tuple = ((1,0), (2,0), (3,0), (4,0))"
   ]
  },
  {
   "cell_type": "code",
   "execution_count": 7,
   "id": "5699bc8a",
   "metadata": {},
   "outputs": [],
   "source": [
    "# Problem 8\n",
    "\n",
    "my_dict = {'my_list':[0,1], 'my_tuple':(0,1), 'first_name':'Andy', 'last_name':'Nguyen'}"
   ]
  },
  {
   "cell_type": "code",
   "execution_count": null,
   "id": "7957bc46",
   "metadata": {},
   "outputs": [],
   "source": []
  }
 ],
 "metadata": {
  "kernelspec": {
   "display_name": "Python 3 (ipykernel)",
   "language": "python",
   "name": "python3"
  },
  "language_info": {
   "codemirror_mode": {
    "name": "ipython",
    "version": 3
   },
   "file_extension": ".py",
   "mimetype": "text/x-python",
   "name": "python",
   "nbconvert_exporter": "python",
   "pygments_lexer": "ipython3",
   "version": "3.9.7"
  }
 },
 "nbformat": 4,
 "nbformat_minor": 5
}
