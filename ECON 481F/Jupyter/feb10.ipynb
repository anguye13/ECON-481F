{
 "cells": [
  {
   "cell_type": "markdown",
   "id": "cac7fcb0",
   "metadata": {},
   "source": [
    "# While Loop\n",
    "\n",
    "`while True:\n",
    "    do blank`"
   ]
  },
  {
   "cell_type": "code",
   "execution_count": 1,
   "id": "b4eff2f3",
   "metadata": {},
   "outputs": [
    {
     "name": "stdout",
     "output_type": "stream",
     "text": [
      "Phoenix\n",
      "Austin\n"
     ]
    }
   ],
   "source": [
    "cities = [\"Phoenix\", \"Austin\", \"San Diego\", \"New York\"]\n",
    "states = ['Arizona', 'Texas', 'California', 'New York']\n",
    "\n",
    "i = 0\n",
    "while i < 2:\n",
    "    print(cities[i])\n",
    "    i += 1"
   ]
  },
  {
   "cell_type": "code",
   "execution_count": 5,
   "id": "a41f145c",
   "metadata": {},
   "outputs": [
    {
     "name": "stdout",
     "output_type": "stream",
     "text": [
      "state 0 is Arizona, and city 0 is Phoenix\n",
      "\n",
      "state 1 is Texas, and city 1 is Austin\n",
      "\n",
      "state 2 is California, and city 2 is San Diego\n",
      "\n",
      "state 3 is New York, and city 3 is New York\n",
      "\n"
     ]
    }
   ],
   "source": [
    "#exercise\n",
    "\n",
    "cities = [\"Phoenix\", \"Austin\", \"San Diego\", \"New York\"]\n",
    "states = ['Arizona', 'Texas', 'California', 'New York']\n",
    "\n",
    "i = 0\n",
    "\n",
    "while i < len(cities):\n",
    "    print(f\"state {i} is {states[i]}, and city {i} is {cities[i]}\\n\")\n",
    "    i += 1"
   ]
  },
  {
   "cell_type": "code",
   "execution_count": 9,
   "id": "71c2066f",
   "metadata": {},
   "outputs": [
    {
     "name": "stdout",
     "output_type": "stream",
     "text": [
      "unbroken\n",
      "unbroken\n",
      "unbroken\n",
      "unbroken\n",
      "unbroken\n",
      "unbroken\n",
      "got here\n",
      "\n",
      "\n",
      "unbroken\n",
      "unbroken\n",
      "unbroken\n",
      "unbroken\n",
      "unbroken\n",
      "unbroken\n",
      "got here\n",
      "unbroken\n",
      "unbroken\n",
      "unbroken\n"
     ]
    }
   ],
   "source": [
    "#break and continue\n",
    "\n",
    "for i in range(10):\n",
    "    if i == 6:\n",
    "        print('got here')\n",
    "        break #stops entire loop\n",
    "        print(i)\n",
    "    else:\n",
    "        print('unbroken')\n",
    "        \n",
    "print(\"\\n\")\n",
    "        \n",
    "for i in range(10):\n",
    "    if i == 6:\n",
    "        print('got here')\n",
    "        continue #stops loop and goes to next loop\n",
    "        print(i)\n",
    "    else:\n",
    "        print('unbroken')"
   ]
  },
  {
   "cell_type": "code",
   "execution_count": 10,
   "id": "b3a0ca7a",
   "metadata": {},
   "outputs": [
    {
     "name": "stdout",
     "output_type": "stream",
     "text": [
      "0\n",
      "1\n",
      "2\n",
      "3\n",
      "4\n",
      "6\n",
      "7\n",
      "8\n",
      "9\n"
     ]
    }
   ],
   "source": [
    "#exercise\n",
    "\n",
    "for i in range(10):\n",
    "    if i == 5:\n",
    "        continue\n",
    "    else:\n",
    "        print(i)"
   ]
  },
  {
   "cell_type": "code",
   "execution_count": 15,
   "id": "3b39f534",
   "metadata": {},
   "outputs": [],
   "source": [
    "#list comprehension\n",
    "\n",
    "x = [1, 2, 4, 57]\n",
    "\n",
    "y = [i**2 for i in x]\n",
    "\n",
    "doubles = [x*2 for x in range(8)]\n",
    "\n",
    "animals = ['dog','cat','bird']\n",
    "\n",
    "plurals = [animal+'s' for animal in animals]"
   ]
  },
  {
   "cell_type": "code",
   "execution_count": 3,
   "id": "1edfde64",
   "metadata": {},
   "outputs": [
    {
     "name": "stdout",
     "output_type": "stream",
     "text": [
      "337.4\n"
     ]
    }
   ],
   "source": [
    "#functions\n",
    "\n",
    "numbers = [2, 19, 34, 633, 999]\n",
    "\n",
    "def mean(ls):\n",
    "    return sum(ls) / len(ls)\n",
    "\n"
   ]
  },
  {
   "cell_type": "code",
   "execution_count": 7,
   "id": "a95c3fe6",
   "metadata": {},
   "outputs": [
    {
     "data": {
      "text/plain": [
       "('BLACK WIDOW', 'black widow')"
      ]
     },
     "execution_count": 7,
     "metadata": {},
     "output_type": "execute_result"
    }
   ],
   "source": [
    "#multiple returns\n",
    "\n",
    "def get_upper_lower(ls):\n",
    "    return ls.upper(), ls.lower()\n",
    "\n",
    "get_upper_lower('Black Widow')"
   ]
  },
  {
   "cell_type": "code",
   "execution_count": 8,
   "id": "76aa52b0",
   "metadata": {},
   "outputs": [
    {
     "data": {
      "text/plain": [
       "64"
      ]
     },
     "execution_count": 8,
     "metadata": {},
     "output_type": "execute_result"
    }
   ],
   "source": [
    "def f(x):\n",
    "    return x**3\n",
    "\n",
    "f(4)"
   ]
  },
  {
   "cell_type": "code",
   "execution_count": 13,
   "id": "cc4c6ec5",
   "metadata": {},
   "outputs": [
    {
     "data": {
      "text/plain": [
       "64"
      ]
     },
     "execution_count": 13,
     "metadata": {},
     "output_type": "execute_result"
    }
   ],
   "source": [
    "fn = lambda x: x**3\n",
    "\n",
    "fn(4)"
   ]
  },
  {
   "cell_type": "code",
   "execution_count": 12,
   "id": "4660f1fa",
   "metadata": {},
   "outputs": [
    {
     "data": {
      "text/plain": [
       "64"
      ]
     },
     "execution_count": 12,
     "metadata": {},
     "output_type": "execute_result"
    }
   ],
   "source": [
    "a = (lambda x: x**3) (4)\n",
    "\n",
    "a"
   ]
  },
  {
   "cell_type": "code",
   "execution_count": 18,
   "id": "6aaf8572",
   "metadata": {},
   "outputs": [
    {
     "data": {
      "text/plain": [
       "4.026353246083528"
      ]
     },
     "execution_count": 18,
     "metadata": {},
     "output_type": "execute_result"
    }
   ],
   "source": [
    "#exercise\n",
    "\n",
    "def Cobb_Douglas(A, K, L, α = 0.3):\n",
    "    Y = A*(K**α)*(L**(1-α))\n",
    "    return Y\n",
    "\n",
    "Cobb_Douglas(1,8,3)\n",
    "\n"
   ]
  },
  {
   "cell_type": "code",
   "execution_count": null,
   "id": "8a7c09e0",
   "metadata": {},
   "outputs": [],
   "source": []
  }
 ],
 "metadata": {
  "kernelspec": {
   "display_name": "Python 3 (ipykernel)",
   "language": "python",
   "name": "python3"
  },
  "language_info": {
   "codemirror_mode": {
    "name": "ipython",
    "version": 3
   },
   "file_extension": ".py",
   "mimetype": "text/x-python",
   "name": "python",
   "nbconvert_exporter": "python",
   "pygments_lexer": "ipython3",
   "version": "3.9.7"
  }
 },
 "nbformat": 4,
 "nbformat_minor": 5
}
