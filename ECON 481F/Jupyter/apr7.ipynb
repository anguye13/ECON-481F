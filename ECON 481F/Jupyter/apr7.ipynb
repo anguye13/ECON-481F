{
 "cells": [
  {
   "cell_type": "code",
   "execution_count": 3,
   "id": "3a6d5a16",
   "metadata": {},
   "outputs": [],
   "source": [
    "import numpy as np\n",
    "import pandas as pd\n",
    "import matplotlib.pyplot as plt"
   ]
  },
  {
   "cell_type": "markdown",
   "id": "0705589d",
   "metadata": {},
   "source": [
    "# Date-time index"
   ]
  },
  {
   "cell_type": "code",
   "execution_count": 4,
   "id": "5129cb37",
   "metadata": {},
   "outputs": [],
   "source": [
    "str1 = '2021-04-07'\n",
    "today = pd.to_datetime(str1)"
   ]
  },
  {
   "cell_type": "code",
   "execution_count": 5,
   "id": "99564bb1",
   "metadata": {},
   "outputs": [
    {
     "data": {
      "text/plain": [
       "Timestamp('2021-04-07 00:00:00')"
      ]
     },
     "execution_count": 5,
     "metadata": {},
     "output_type": "execute_result"
    }
   ],
   "source": [
    "today"
   ]
  },
  {
   "cell_type": "code",
   "execution_count": 6,
   "id": "6308160b",
   "metadata": {},
   "outputs": [],
   "source": [
    "strs = ['April 7, 2022', 'Apr. 7, 2022','Thursday, April 7, 2022', '7 April, 2022']"
   ]
  },
  {
   "cell_type": "code",
   "execution_count": 8,
   "id": "15fea3ea",
   "metadata": {},
   "outputs": [
    {
     "name": "stdout",
     "output_type": "stream",
     "text": [
      "2022-04-07 00:00:00\n",
      "2022-04-07 00:00:00\n",
      "2022-04-07 00:00:00\n",
      "2022-04-07 00:00:00\n"
     ]
    }
   ],
   "source": [
    "for date in strs:\n",
    "    print(pd.to_datetime(date))"
   ]
  },
  {
   "cell_type": "code",
   "execution_count": 9,
   "id": "514cadcd",
   "metadata": {},
   "outputs": [],
   "source": [
    "str2 = '4/7/2022 11:22:35'"
   ]
  },
  {
   "cell_type": "code",
   "execution_count": 10,
   "id": "7254aa2a",
   "metadata": {},
   "outputs": [
    {
     "data": {
      "text/plain": [
       "Timestamp('2022-04-07 11:22:35')"
      ]
     },
     "execution_count": 10,
     "metadata": {},
     "output_type": "execute_result"
    }
   ],
   "source": [
    "pd.to_datetime(str2)"
   ]
  },
  {
   "cell_type": "code",
   "execution_count": 13,
   "id": "13ef12e5",
   "metadata": {},
   "outputs": [
    {
     "data": {
      "text/plain": [
       "Timestamp('2022-04-07 11:22:35')"
      ]
     },
     "execution_count": 13,
     "metadata": {},
     "output_type": "execute_result"
    }
   ],
   "source": [
    "str = str2 = '4/7/2022 X 11:22:35'\n",
    "\n",
    "pd.to_datetime(str2, format='%m/%d/%Y X %H:%M:%S')"
   ]
  },
  {
   "cell_type": "code",
   "execution_count": null,
   "id": "4b3b3ecb",
   "metadata": {},
   "outputs": [],
   "source": []
  }
 ],
 "metadata": {
  "kernelspec": {
   "display_name": "Python 3 (ipykernel)",
   "language": "python",
   "name": "python3"
  },
  "language_info": {
   "codemirror_mode": {
    "name": "ipython",
    "version": 3
   },
   "file_extension": ".py",
   "mimetype": "text/x-python",
   "name": "python",
   "nbconvert_exporter": "python",
   "pygments_lexer": "ipython3",
   "version": "3.9.7"
  }
 },
 "nbformat": 4,
 "nbformat_minor": 5
}
