{
 "cells": [
  {
   "cell_type": "markdown",
   "id": "fa3cade6",
   "metadata": {},
   "source": [
    "# Control Structures"
   ]
  },
  {
   "cell_type": "markdown",
   "id": "fa9e9c4f",
   "metadata": {},
   "source": [
    "**Conditional statements**\n",
    "\n",
    "`if blank:\n",
    "    then blank\n",
    "else:\n",
    "    blank`\n",
    "    \n"
   ]
  },
  {
   "cell_type": "code",
   "execution_count": 6,
   "id": "961a3176",
   "metadata": {},
   "outputs": [
    {
     "name": "stdout",
     "output_type": "stream",
     "text": [
      "smaller than 3\n"
     ]
    }
   ],
   "source": [
    "num = 2\n",
    "\n",
    "if num > 3:\n",
    "    print(\"bigger than 3\")\n",
    "elif num < 3:\n",
    "    print(\"smaller than 3\")\n",
    "else:\n",
    "    print(\"3\")"
   ]
  },
  {
   "cell_type": "code",
   "execution_count": 12,
   "id": "bda4adad",
   "metadata": {},
   "outputs": [
    {
     "name": "stdout",
     "output_type": "stream",
     "text": [
      "42\n",
      "42\n"
     ]
    }
   ],
   "source": [
    "#ternary expression\n",
    "a = 4\n",
    "b = 1 if a >= 5 else 42\n",
    "print(b)\n",
    "\n",
    "#exercise: rewrite above code using normal conditional statements\n",
    "a = 4\n",
    "\n",
    "if a >= 5:\n",
    "    b = 1\n",
    "else:\n",
    "    b = 42\n",
    "print(b)"
   ]
  },
  {
   "cell_type": "markdown",
   "id": "26c06f3e",
   "metadata": {},
   "source": [
    "**Iterables**\n",
    "\n",
    "`for i in blank:\n",
    "    print(i)`"
   ]
  },
  {
   "cell_type": "code",
   "execution_count": 21,
   "id": "cf45e91e",
   "metadata": {},
   "outputs": [
    {
     "name": "stdout",
     "output_type": "stream",
     "text": [
      "4.0\n",
      "6.0\n",
      "9.0\n",
      "16.0\n"
     ]
    }
   ],
   "source": [
    "import math\n",
    "\n",
    "x = [16, 36, 81, 256]\n",
    "\n",
    "for i in x:\n",
    "    print(math.sqrt(i))\n"
   ]
  },
  {
   "cell_type": "code",
   "execution_count": 36,
   "id": "813a5355",
   "metadata": {},
   "outputs": [
    {
     "name": "stdout",
     "output_type": "stream",
     "text": [
      "city 0 is Phoenix\n",
      "city 1 is Austin\n",
      "city 2 is San Diego\n",
      "city 3 is New York\n"
     ]
    }
   ],
   "source": [
    "cities = [\"Phoenix\", \"Austin\", \"San Diego\", \"New York\"]\n",
    "\n",
    "for i in range(4):\n",
    "    print(f\"city {i} is {cities[i]}\")"
   ]
  },
  {
   "cell_type": "code",
   "execution_count": 37,
   "id": "58fe792d",
   "metadata": {},
   "outputs": [
    {
     "name": "stdout",
     "output_type": "stream",
     "text": [
      "state 0 is Arizona, and city 0 is Phoenix\n",
      "\n",
      "state 1 is Texas, and city 1 is Austin\n",
      "\n",
      "state 2 is California, and city 2 is San Diego\n",
      "\n",
      "state 3 is New York, and city 3 is New York\n",
      "\n"
     ]
    }
   ],
   "source": [
    "cities = ['Phoenix', 'Austin', 'San Diego', 'New York']\n",
    "states = ['Arizona', 'Texas', 'California', 'New York']\n",
    "\n",
    "for i in range(len(cities)):\n",
    "    print(f\"state {i} is {states[i]}, and city {i} is {cities[i]}\\n\")"
   ]
  },
  {
   "cell_type": "code",
   "execution_count": 48,
   "id": "06d7074f",
   "metadata": {},
   "outputs": [
    {
     "name": "stdout",
     "output_type": "stream",
     "text": [
      "Phoenix is in Arizona\n",
      "Austin is in Texas\n",
      "San Diego is in California\n",
      "New York is in New York\n"
     ]
    }
   ],
   "source": [
    "temp = enumerate(cities)\n",
    "list_temp = list(temp)\n",
    "\n",
    "#exercise\n",
    "#use the enumerate command and a for loop to print out... do NOT use the range fn\n",
    "\n",
    "for index, city in enumerate(cities):\n",
    "    print(f\"{city} is in {states[index]}\")"
   ]
  },
  {
   "cell_type": "code",
   "execution_count": 50,
   "id": "bd4b0328",
   "metadata": {},
   "outputs": [
    {
     "name": "stdout",
     "output_type": "stream",
     "text": [
      "Phoenix is in Arizona\n",
      "San Diego is in California\n",
      "New York is in New York\n"
     ]
    }
   ],
   "source": [
    "#exercise\n",
    "#same as above, but only if state name longer than 5 chars\n",
    "\n",
    "for index, city in enumerate(cities):\n",
    "    if len(states[index]) > 5:\n",
    "        print(f\"{city} is in {states[index]}\")"
   ]
  },
  {
   "cell_type": "code",
   "execution_count": 51,
   "id": "6accc3fc",
   "metadata": {},
   "outputs": [
    {
     "name": "stdout",
     "output_type": "stream",
     "text": [
      "Phoenix is in Arizona\n",
      "San Diego is in California\n",
      "New York is in New York\n"
     ]
    }
   ],
   "source": [
    "#exercise\n",
    "#same as above, but use zip fn\n",
    "\n",
    "for city, state in zip(cities, states):\n",
    "    if len(state) > 5:\n",
    "        print(f\"{city} is in {state}\")"
   ]
  }
 ],
 "metadata": {
  "kernelspec": {
   "display_name": "Python 3 (ipykernel)",
   "language": "python",
   "name": "python3"
  },
  "language_info": {
   "codemirror_mode": {
    "name": "ipython",
    "version": 3
   },
   "file_extension": ".py",
   "mimetype": "text/x-python",
   "name": "python",
   "nbconvert_exporter": "python",
   "pygments_lexer": "ipython3",
   "version": "3.9.7"
  }
 },
 "nbformat": 4,
 "nbformat_minor": 5
}
