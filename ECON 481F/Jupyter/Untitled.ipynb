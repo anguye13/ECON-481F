{
 "cells": [
  {
   "cell_type": "code",
   "execution_count": 1,
   "id": "bb8f4193",
   "metadata": {},
   "outputs": [],
   "source": [
    "import numpy as np\n",
    "import pandas as pd\n",
    "import matplotlib.pyplot as plt"
   ]
  },
  {
   "cell_type": "code",
   "execution_count": 2,
   "id": "fff48509",
   "metadata": {},
   "outputs": [],
   "source": [
    "gdp = [ 17514, 17876.2, 18359.4, 18813.9, 16254, 18794.4 ]\n",
    "years = range(2015,2021)"
   ]
  },
  {
   "cell_type": "code",
   "execution_count": 3,
   "id": "f000b3d2",
   "metadata": {},
   "outputs": [],
   "source": [
    "s = pd.Series(data=gdp,index=years)"
   ]
  },
  {
   "cell_type": "code",
   "execution_count": 4,
   "id": "21d67689",
   "metadata": {},
   "outputs": [
    {
     "data": {
      "text/plain": [
       "2015    17514.0\n",
       "2016    17876.2\n",
       "2017    18359.4\n",
       "2018    18813.9\n",
       "2019    16254.0\n",
       "2020    18794.4\n",
       "dtype: float64"
      ]
     },
     "execution_count": 4,
     "metadata": {},
     "output_type": "execute_result"
    }
   ],
   "source": [
    "s"
   ]
  },
  {
   "cell_type": "markdown",
   "id": "d5873ce4",
   "metadata": {},
   "source": [
    "### Exercise\n",
    "\n",
    "Create a data series of 8 random numbers to represent the daily returns of 8 stocks. Draw the 8 numbers from a uniform distribution in the interval [0,1)"
   ]
  },
  {
   "cell_type": "code",
   "execution_count": 5,
   "id": "436a4ead",
   "metadata": {},
   "outputs": [],
   "source": [
    "rng = np.random.default_rng()\n",
    "\n",
    "data = rng.random(8)\n",
    "\n",
    "s = pd.Series(data=data)"
   ]
  },
  {
   "cell_type": "code",
   "execution_count": 6,
   "id": "176c02a8",
   "metadata": {},
   "outputs": [
    {
     "data": {
      "text/plain": [
       "0    0.734849\n",
       "1    0.385407\n",
       "2    0.456400\n",
       "3    0.669720\n",
       "4    0.963751\n",
       "5    0.293754\n",
       "6    0.803086\n",
       "7    0.204035\n",
       "dtype: float64"
      ]
     },
     "execution_count": 6,
     "metadata": {},
     "output_type": "execute_result"
    }
   ],
   "source": [
    "s"
   ]
  },
  {
   "cell_type": "code",
   "execution_count": null,
   "id": "4bc5f158",
   "metadata": {},
   "outputs": [],
   "source": []
  }
 ],
 "metadata": {
  "kernelspec": {
   "display_name": "Python 3 (ipykernel)",
   "language": "python",
   "name": "python3"
  },
  "language_info": {
   "codemirror_mode": {
    "name": "ipython",
    "version": 3
   },
   "file_extension": ".py",
   "mimetype": "text/x-python",
   "name": "python",
   "nbconvert_exporter": "python",
   "pygments_lexer": "ipython3",
   "version": "3.9.7"
  }
 },
 "nbformat": 4,
 "nbformat_minor": 5
}
