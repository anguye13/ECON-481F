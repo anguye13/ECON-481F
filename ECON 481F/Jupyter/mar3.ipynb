{
 "cells": [
  {
   "cell_type": "markdown",
   "id": "316b32a4",
   "metadata": {},
   "source": [
    "# Matrices\n",
    "\n",
    "- n-by-m matrix has n rows and m columns"
   ]
  },
  {
   "cell_type": "code",
   "execution_count": 1,
   "id": "9bde268a",
   "metadata": {},
   "outputs": [],
   "source": [
    "import numpy as np"
   ]
  },
  {
   "cell_type": "markdown",
   "id": "52cb8f52",
   "metadata": {},
   "source": [
    "# Matrix Operations"
   ]
  },
  {
   "cell_type": "code",
   "execution_count": 2,
   "id": "be50b89d",
   "metadata": {},
   "outputs": [],
   "source": [
    "z = np.empty((3,3))"
   ]
  },
  {
   "cell_type": "code",
   "execution_count": 3,
   "id": "891d634d",
   "metadata": {},
   "outputs": [
    {
     "data": {
      "text/plain": [
       "array([[ 6.17779239e-31, -1.23555848e-30,  3.08889620e-31],\n",
       "       [-1.23555848e-30,  2.68733969e-30, -8.34001973e-31],\n",
       "       [ 3.08889620e-31, -8.34001973e-31,  4.78778910e-31]])"
      ]
     },
     "execution_count": 3,
     "metadata": {},
     "output_type": "execute_result"
    }
   ],
   "source": [
    "z"
   ]
  },
  {
   "cell_type": "code",
   "execution_count": 4,
   "id": "9cb52e23",
   "metadata": {},
   "outputs": [
    {
     "data": {
      "text/plain": [
       "6.177792392231797e-31"
      ]
     },
     "execution_count": 4,
     "metadata": {},
     "output_type": "execute_result"
    }
   ],
   "source": [
    "z[0,0]"
   ]
  },
  {
   "cell_type": "code",
   "execution_count": 5,
   "id": "2db61978",
   "metadata": {},
   "outputs": [],
   "source": [
    "x = np.array([])"
   ]
  },
  {
   "cell_type": "code",
   "execution_count": 6,
   "id": "7bba54f0",
   "metadata": {},
   "outputs": [
    {
     "data": {
      "text/plain": [
       "array([], dtype=float64)"
      ]
     },
     "execution_count": 6,
     "metadata": {},
     "output_type": "execute_result"
    }
   ],
   "source": [
    "x"
   ]
  },
  {
   "cell_type": "code",
   "execution_count": 7,
   "id": "3bbf05cb",
   "metadata": {},
   "outputs": [
    {
     "data": {
      "text/plain": [
       "(0,)"
      ]
     },
     "execution_count": 7,
     "metadata": {},
     "output_type": "execute_result"
    }
   ],
   "source": [
    "x.shape"
   ]
  },
  {
   "cell_type": "code",
   "execution_count": 8,
   "id": "a97b074e",
   "metadata": {},
   "outputs": [],
   "source": [
    "z[:] = 3"
   ]
  },
  {
   "cell_type": "code",
   "execution_count": 9,
   "id": "6c60d03d",
   "metadata": {},
   "outputs": [
    {
     "data": {
      "text/plain": [
       "array([[3., 3., 3.],\n",
       "       [3., 3., 3.],\n",
       "       [3., 3., 3.]])"
      ]
     },
     "execution_count": 9,
     "metadata": {},
     "output_type": "execute_result"
    }
   ],
   "source": [
    "z"
   ]
  },
  {
   "cell_type": "code",
   "execution_count": 10,
   "id": "a09abd26",
   "metadata": {},
   "outputs": [],
   "source": [
    "z = np.zeros((4,3))"
   ]
  },
  {
   "cell_type": "code",
   "execution_count": 11,
   "id": "0b4902dd",
   "metadata": {},
   "outputs": [
    {
     "data": {
      "text/plain": [
       "array([[0., 0., 0.],\n",
       "       [0., 0., 0.],\n",
       "       [0., 0., 0.],\n",
       "       [0., 0., 0.]])"
      ]
     },
     "execution_count": 11,
     "metadata": {},
     "output_type": "execute_result"
    }
   ],
   "source": [
    "z"
   ]
  },
  {
   "cell_type": "code",
   "execution_count": 12,
   "id": "a0e12afa",
   "metadata": {},
   "outputs": [
    {
     "data": {
      "text/plain": [
       "(4, 3)"
      ]
     },
     "execution_count": 12,
     "metadata": {},
     "output_type": "execute_result"
    }
   ],
   "source": [
    "z.shape"
   ]
  },
  {
   "cell_type": "code",
   "execution_count": 13,
   "id": "14697d9d",
   "metadata": {},
   "outputs": [
    {
     "data": {
      "text/plain": [
       "array([[1., 1., 1., 1.],\n",
       "       [1., 1., 1., 1.]])"
      ]
     },
     "execution_count": 13,
     "metadata": {},
     "output_type": "execute_result"
    }
   ],
   "source": [
    "np.ones((2,4))"
   ]
  },
  {
   "cell_type": "markdown",
   "id": "8ce60618",
   "metadata": {},
   "source": [
    "**Identity matrix**: diagonal matrix with 1's on the diagonal"
   ]
  },
  {
   "cell_type": "code",
   "execution_count": 14,
   "id": "47bc86f2",
   "metadata": {},
   "outputs": [
    {
     "data": {
      "text/plain": [
       "array([[1., 0., 0.],\n",
       "       [0., 1., 0.],\n",
       "       [0., 0., 1.]])"
      ]
     },
     "execution_count": 14,
     "metadata": {},
     "output_type": "execute_result"
    }
   ],
   "source": [
    "np.identity(3)"
   ]
  },
  {
   "cell_type": "code",
   "execution_count": 15,
   "id": "d5a3b849",
   "metadata": {},
   "outputs": [
    {
     "data": {
      "text/plain": [
       "array([[1., 0., 0.],\n",
       "       [0., 1., 0.],\n",
       "       [0., 0., 1.]])"
      ]
     },
     "execution_count": 15,
     "metadata": {},
     "output_type": "execute_result"
    }
   ],
   "source": [
    "np.eye(3)"
   ]
  },
  {
   "cell_type": "markdown",
   "id": "b7061d17",
   "metadata": {},
   "source": [
    "# Transpose\n",
    "\n",
    "denoted $M^T$ is M with columns as rows and rows as columns"
   ]
  },
  {
   "cell_type": "code",
   "execution_count": 22,
   "id": "32e8868c",
   "metadata": {},
   "outputs": [],
   "source": [
    "A = np.array([[2,4,6],[3,4,7]])"
   ]
  },
  {
   "cell_type": "code",
   "execution_count": 23,
   "id": "9a242150",
   "metadata": {},
   "outputs": [
    {
     "data": {
      "text/plain": [
       "array([[2, 4, 6],\n",
       "       [3, 4, 7]])"
      ]
     },
     "execution_count": 23,
     "metadata": {},
     "output_type": "execute_result"
    }
   ],
   "source": [
    "A"
   ]
  },
  {
   "cell_type": "code",
   "execution_count": 21,
   "id": "d6023787",
   "metadata": {},
   "outputs": [
    {
     "data": {
      "text/plain": [
       "array([[2, 3],\n",
       "       [4, 5],\n",
       "       [6, 7]])"
      ]
     },
     "execution_count": 21,
     "metadata": {},
     "output_type": "execute_result"
    }
   ],
   "source": [
    "A.T"
   ]
  },
  {
   "cell_type": "code",
   "execution_count": 24,
   "id": "c7162afa",
   "metadata": {},
   "outputs": [],
   "source": [
    "B = np.array([3.5,5,19]).reshape((3,1))"
   ]
  },
  {
   "cell_type": "code",
   "execution_count": 26,
   "id": "76356d21",
   "metadata": {},
   "outputs": [
    {
     "data": {
      "text/plain": [
       "array([[ 3.5],\n",
       "       [ 5. ],\n",
       "       [19. ]])"
      ]
     },
     "execution_count": 26,
     "metadata": {},
     "output_type": "execute_result"
    }
   ],
   "source": [
    "B"
   ]
  },
  {
   "cell_type": "code",
   "execution_count": 27,
   "id": "fa0a14a7",
   "metadata": {},
   "outputs": [
    {
     "data": {
      "text/plain": [
       "array([[141. ],\n",
       "       [163.5]])"
      ]
     },
     "execution_count": 27,
     "metadata": {},
     "output_type": "execute_result"
    }
   ],
   "source": [
    "A @ B"
   ]
  },
  {
   "cell_type": "markdown",
   "id": "cc9dbf61",
   "metadata": {},
   "source": [
    "# Exercise\n",
    "\n",
    "Create a matrix and a vector. Try the product of them."
   ]
  },
  {
   "cell_type": "code",
   "execution_count": 29,
   "id": "67623c6f",
   "metadata": {},
   "outputs": [
    {
     "data": {
      "text/plain": [
       "array([[ 5],\n",
       "       [11],\n",
       "       [17]])"
      ]
     },
     "execution_count": 29,
     "metadata": {},
     "output_type": "execute_result"
    }
   ],
   "source": [
    "A_ls = [[1,2],[3,4],[5,6]]\n",
    "A = np.array(A_ls)\n",
    "\n",
    "b_ls = [[1,2]]\n",
    "b = np.array(b_ls).reshape((2,1))\n",
    "\n",
    "A @ B"
   ]
  },
  {
   "cell_type": "markdown",
   "id": "2d2099f1",
   "metadata": {},
   "source": [
    "# Matrix multiplication\n",
    "\n",
    "**n-by-k** and **n-by-m** yields **n-by-m**\n",
    "\n",
    "# Exercise"
   ]
  },
  {
   "cell_type": "code",
   "execution_count": 31,
   "id": "72e64a7d",
   "metadata": {},
   "outputs": [
    {
     "data": {
      "text/plain": [
       "array([[2, 0],\n",
       "       [1, 1]])"
      ]
     },
     "execution_count": 31,
     "metadata": {},
     "output_type": "execute_result"
    }
   ],
   "source": [
    "A = np.array([[2,1],[1,1]])\n",
    "B = np.array([[1,-1],[0,2]])\n",
    "\n",
    "A @ B"
   ]
  },
  {
   "cell_type": "code",
   "execution_count": 32,
   "id": "c0a2a81e",
   "metadata": {
    "scrolled": true
   },
   "outputs": [
    {
     "data": {
      "text/plain": [
       "array([[1, 0],\n",
       "       [2, 2]])"
      ]
     },
     "execution_count": 32,
     "metadata": {},
     "output_type": "execute_result"
    }
   ],
   "source": [
    "B @ A"
   ]
  },
  {
   "cell_type": "markdown",
   "id": "d7a0a727",
   "metadata": {},
   "source": [
    "# Matrix Axioms\n",
    "\n",
    "- Associative (Addition)\n",
    "- Commutative (Addition)\n",
    "- Associative (Multiplication)\n",
    "- Distributive (Addition)\n"
   ]
  },
  {
   "cell_type": "code",
   "execution_count": 33,
   "id": "6966adcf",
   "metadata": {},
   "outputs": [
    {
     "data": {
      "text/plain": [
       "array([[2, 1],\n",
       "       [1, 1]])"
      ]
     },
     "execution_count": 33,
     "metadata": {},
     "output_type": "execute_result"
    }
   ],
   "source": [
    "A"
   ]
  },
  {
   "cell_type": "code",
   "execution_count": 34,
   "id": "e66a7398",
   "metadata": {},
   "outputs": [
    {
     "data": {
      "text/plain": [
       "array([[2., 1.],\n",
       "       [1., 1.]])"
      ]
     },
     "execution_count": 34,
     "metadata": {},
     "output_type": "execute_result"
    }
   ],
   "source": [
    "A @ np.eye(2)"
   ]
  },
  {
   "cell_type": "markdown",
   "id": "db61893b",
   "metadata": {},
   "source": [
    "# Inverse\n",
    "\n",
    "Matrix must be a square to have an inverse\n",
    "\n",
    "$A*A^{-1}$ = $A^{-1}A$ := **I**\n",
    "\n",
    "A square matrix can only be inverted if its **determinant** is **NOT** 0\n",
    "\n",
    "If determinant is equal to 0, we say the matrix is **singular** -> *columns* are related"
   ]
  },
  {
   "cell_type": "code",
   "execution_count": 38,
   "id": "aa9ef81d",
   "metadata": {},
   "outputs": [],
   "source": [
    "A_inverse = np.linalg.inv(A)"
   ]
  },
  {
   "cell_type": "code",
   "execution_count": 39,
   "id": "5f3dd107",
   "metadata": {},
   "outputs": [
    {
     "data": {
      "text/plain": [
       "array([[1., 0.],\n",
       "       [0., 1.]])"
      ]
     },
     "execution_count": 39,
     "metadata": {},
     "output_type": "execute_result"
    }
   ],
   "source": [
    "A @ A_inverse"
   ]
  },
  {
   "cell_type": "code",
   "execution_count": 44,
   "id": "69004c4f",
   "metadata": {},
   "outputs": [],
   "source": [
    "from numpy.linalg import inv\n",
    "\n",
    "A_inverse = inv(A)"
   ]
  },
  {
   "cell_type": "code",
   "execution_count": 45,
   "id": "b67cc6ed",
   "metadata": {},
   "outputs": [
    {
     "data": {
      "text/plain": [
       "1.0"
      ]
     },
     "execution_count": 45,
     "metadata": {},
     "output_type": "execute_result"
    }
   ],
   "source": [
    "from numpy.linalg import det\n",
    "\n",
    "det(A)"
   ]
  },
  {
   "cell_type": "code",
   "execution_count": 46,
   "id": "83e5e509",
   "metadata": {},
   "outputs": [
    {
     "data": {
      "text/plain": [
       "array([[-1.],\n",
       "       [ 1.]])"
      ]
     },
     "execution_count": 46,
     "metadata": {},
     "output_type": "execute_result"
    }
   ],
   "source": [
    "A = np.array([[3,8],[4,11]])\n",
    "B = np.array([5,7]).reshape((2,1))\n",
    "\n",
    "inv(A) @ B"
   ]
  },
  {
   "cell_type": "markdown",
   "id": "96d357e5",
   "metadata": {},
   "source": [
    "# Eigenvalue\n",
    "\n",
    "An **eigenvalue** of a square matrix A is a number $\\lambda$ which when subtracted from each diagonal entries of A, turns A into a singular matrix\n",
    "\n",
    "i.e. det(B) = 0 where B = A - $\\lambda$I\n",
    "\n",
    "- If v is a non-zero vector and Av = $\\lambda$v\n",
    "\n",
    "then $\\lambda$ is an *eigenvalue* of A and v is an **eigenvector** of A"
   ]
  },
  {
   "cell_type": "code",
   "execution_count": 48,
   "id": "c402f8cd",
   "metadata": {},
   "outputs": [],
   "source": [
    "eigenvalues, eigenvectors = np.linalg.eig(A)"
   ]
  },
  {
   "cell_type": "code",
   "execution_count": 49,
   "id": "fb078a53",
   "metadata": {},
   "outputs": [
    {
     "data": {
      "text/plain": [
       "array([ 0.07179677, 13.92820323])"
      ]
     },
     "execution_count": 49,
     "metadata": {},
     "output_type": "execute_result"
    }
   ],
   "source": [
    "eigenvalues"
   ]
  },
  {
   "cell_type": "code",
   "execution_count": null,
   "id": "6832d6fd",
   "metadata": {},
   "outputs": [],
   "source": []
  }
 ],
 "metadata": {
  "kernelspec": {
   "display_name": "Python 3 (ipykernel)",
   "language": "python",
   "name": "python3"
  },
  "language_info": {
   "codemirror_mode": {
    "name": "ipython",
    "version": 3
   },
   "file_extension": ".py",
   "mimetype": "text/x-python",
   "name": "python",
   "nbconvert_exporter": "python",
   "pygments_lexer": "ipython3",
   "version": "3.9.7"
  }
 },
 "nbformat": 4,
 "nbformat_minor": 5
}
