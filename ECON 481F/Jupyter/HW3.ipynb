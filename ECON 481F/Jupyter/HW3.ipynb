{
 "cells": [
  {
   "cell_type": "code",
   "execution_count": 1,
   "id": "66af0671",
   "metadata": {},
   "outputs": [],
   "source": [
    "#helper functions\n",
    "\n",
    "from scipy.optimize import newton\n",
    "\n",
    "def get_PV(FP, i, n):\n",
    "    \"\"\"\n",
    "    Calculuate the present value of future cashflows FP, given the interest\n",
    "    rate i and number of periods n. \n",
    "    \"\"\"    \n",
    "    total = 0\n",
    "    for j in range(n):\n",
    "        total += FP/(1+i)**(j+1)\n",
    "    return total"
   ]
  },
  {
   "cell_type": "code",
   "execution_count": 2,
   "id": "e94100ae",
   "metadata": {},
   "outputs": [
    {
     "data": {
      "text/plain": [
       "765.7240882220468"
      ]
     },
     "execution_count": 2,
     "metadata": {},
     "output_type": "execute_result"
    }
   ],
   "source": [
    "#Problem 1\n",
    "\n",
    "i = 0.0057\n",
    "n = 12*20\n",
    "\n",
    "def g(MFP):\n",
    "    return get_PV(MFP, i, n) - 100000\n",
    "\n",
    "newton(g, 500)\n",
    "#765.7240882220468"
   ]
  },
  {
   "cell_type": "code",
   "execution_count": 3,
   "id": "490c7254",
   "metadata": {},
   "outputs": [
    {
     "data": {
      "text/plain": [
       "214790.9145263258"
      ]
     },
     "execution_count": 3,
     "metadata": {},
     "output_type": "execute_result"
    }
   ],
   "source": [
    "#Problem 2\n",
    "\n",
    "FP = 20000\n",
    "i = 0.045\n",
    "n = 15\n",
    "\n",
    "get_PV(FP, i, n)\n",
    "#214790.9145263258"
   ]
  },
  {
   "cell_type": "code",
   "execution_count": 4,
   "id": "e59272cc",
   "metadata": {},
   "outputs": [
    {
     "data": {
      "text/plain": [
       "0.06644206682816131"
      ]
     },
     "execution_count": 4,
     "metadata": {},
     "output_type": "execute_result"
    }
   ],
   "source": [
    "#Problem 3\n",
    "\n",
    "FP = 10000*.06\n",
    "n = 10\n",
    "\n",
    "def g(i):\n",
    "    return get_PV(FP, i, n) + 10000/(1+i)**10 - 9540\n",
    "\n",
    "newton(g,0.2)\n",
    "#0.06644206682816131"
   ]
  },
  {
   "cell_type": "code",
   "execution_count": 5,
   "id": "97573502",
   "metadata": {},
   "outputs": [
    {
     "data": {
      "text/plain": [
       "0.07999842909319416"
      ]
     },
     "execution_count": 5,
     "metadata": {},
     "output_type": "execute_result"
    }
   ],
   "source": [
    "#Problem 4.1\n",
    "\n",
    "FP = 1000*.1\n",
    "n = 1\n",
    "\n",
    "def g(i):\n",
    "    return get_PV(FP, i, n) + 1000/(1+i)**1 - 1018.52\n",
    "\n",
    "newton(g,.2)\n",
    "#0.07999842909319416\n",
    "#below the coupon rate"
   ]
  },
  {
   "cell_type": "code",
   "execution_count": 6,
   "id": "dc344d2e",
   "metadata": {},
   "outputs": [
    {
     "data": {
      "text/plain": [
       "0.12072928151125191"
      ]
     },
     "execution_count": 6,
     "metadata": {},
     "output_type": "execute_result"
    }
   ],
   "source": [
    "#Problem 4.2\n",
    "\n",
    "FP = 1000*.1\n",
    "n = 2\n",
    "\n",
    "def g(i):\n",
    "    return get_PV(FP, i, n) + 1000/(1+i)**2 - 965\n",
    "\n",
    "newton(g,.2)\n",
    "#0.12072928151125191\n",
    "#above the coupon rate"
   ]
  },
  {
   "cell_type": "code",
   "execution_count": 7,
   "id": "40d7ad8e",
   "metadata": {},
   "outputs": [
    {
     "data": {
      "text/plain": [
       "1054.2405450257663"
      ]
     },
     "execution_count": 7,
     "metadata": {},
     "output_type": "execute_result"
    }
   ],
   "source": [
    "#Problem 4.3\n",
    "\n",
    "FP = 1000*.1\n",
    "n = 2\n",
    "i = .07\n",
    "\n",
    "get_PV(FP, i, n) + 1000/(1.07)**2\n",
    "#1054.2405450257663"
   ]
  }
 ],
 "metadata": {
  "kernelspec": {
   "display_name": "Python 3 (ipykernel)",
   "language": "python",
   "name": "python3"
  },
  "language_info": {
   "codemirror_mode": {
    "name": "ipython",
    "version": 3
   },
   "file_extension": ".py",
   "mimetype": "text/x-python",
   "name": "python",
   "nbconvert_exporter": "python",
   "pygments_lexer": "ipython3",
   "version": "3.9.7"
  }
 },
 "nbformat": 4,
 "nbformat_minor": 5
}
