{
 "cells": [
  {
   "cell_type": "markdown",
   "id": "31200c6e",
   "metadata": {},
   "source": [
    "# BOOLING :)"
   ]
  },
  {
   "cell_type": "code",
   "execution_count": 1,
   "id": "f5f1a7be",
   "metadata": {},
   "outputs": [
    {
     "data": {
      "text/plain": [
       "bool"
      ]
     },
     "execution_count": 1,
     "metadata": {},
     "output_type": "execute_result"
    }
   ],
   "source": [
    "x = True\n",
    "type(x)"
   ]
  },
  {
   "cell_type": "code",
   "execution_count": 10,
   "id": "642c887a",
   "metadata": {},
   "outputs": [
    {
     "data": {
      "text/plain": [
       "bool"
      ]
     },
     "execution_count": 10,
     "metadata": {},
     "output_type": "execute_result"
    }
   ],
   "source": [
    "y = False\n",
    "type(y)"
   ]
  },
  {
   "cell_type": "code",
   "execution_count": 11,
   "id": "fcfe18d5",
   "metadata": {},
   "outputs": [
    {
     "data": {
      "text/plain": [
       "True"
      ]
     },
     "execution_count": 11,
     "metadata": {},
     "output_type": "execute_result"
    }
   ],
   "source": [
    "x = 1\n",
    "x == 1"
   ]
  },
  {
   "cell_type": "code",
   "execution_count": 12,
   "id": "aeb84c4a",
   "metadata": {},
   "outputs": [
    {
     "data": {
      "text/plain": [
       "False"
      ]
     },
     "execution_count": 12,
     "metadata": {},
     "output_type": "execute_result"
    }
   ],
   "source": [
    "x = 2\n",
    "x == 1"
   ]
  },
  {
   "cell_type": "code",
   "execution_count": 14,
   "id": "09ac1762",
   "metadata": {},
   "outputs": [
    {
     "data": {
      "text/plain": [
       "False"
      ]
     },
     "execution_count": 14,
     "metadata": {},
     "output_type": "execute_result"
    }
   ],
   "source": [
    "y = 100 < 10\n",
    "y"
   ]
  },
  {
   "cell_type": "code",
   "execution_count": 15,
   "id": "52daff73",
   "metadata": {},
   "outputs": [],
   "source": [
    "# and, or, ()"
   ]
  },
  {
   "cell_type": "code",
   "execution_count": 17,
   "id": "406c421e",
   "metadata": {},
   "outputs": [
    {
     "data": {
      "text/plain": [
       "True"
      ]
     },
     "execution_count": 17,
     "metadata": {},
     "output_type": "execute_result"
    }
   ],
   "source": [
    "# all() returns True if all elements in a list are True\n",
    "# parameter for all() must be a list\n",
    "\n",
    "ls = [4>3, 3>2]\n",
    "\n",
    "all(ls)\n"
   ]
  },
  {
   "cell_type": "code",
   "execution_count": 19,
   "id": "c04b7598",
   "metadata": {},
   "outputs": [
    {
     "data": {
      "text/plain": [
       "2"
      ]
     },
     "execution_count": 19,
     "metadata": {},
     "output_type": "execute_result"
    }
   ],
   "source": [
    "# any() returns True if any of the elements in a list are True\n",
    "# parameter for any() must be a list\n",
    "\n",
    "ls = [4>3, 3>2]\n",
    "\n",
    "any(ls)"
   ]
  },
  {
   "cell_type": "markdown",
   "id": "e5ef177a",
   "metadata": {},
   "source": [
    "# Exercise 3 :)"
   ]
  },
  {
   "cell_type": "markdown",
   "id": "5b86c636",
   "metadata": {},
   "source": [
    "x = 2  \n",
    "y = 2  \n",
    "z = 4  \n",
    "ls = [x<z, x+y==z]  \n",
    "\n",
    "1) x > z (False)  \n",
    "2) x == y (True)  \n",
    "3) (x < y) and (x > y) (False)  \n",
    "4) (x < y) or (x > y) (False)  \n",
    "5) (x <= y) and (x >= y) (True)  \n",
    "6) True and ((x < z) or (x < y)) (True)  \n",
    "7) all(ls) (True)  "
   ]
  },
  {
   "cell_type": "code",
   "execution_count": 20,
   "id": "ea9b68a7",
   "metadata": {},
   "outputs": [],
   "source": [
    "x = 2\n",
    "y = 2\n",
    "z = 4\n",
    "ls = [x<z,x+y==z]"
   ]
  },
  {
   "cell_type": "code",
   "execution_count": 21,
   "id": "f0d0d093",
   "metadata": {},
   "outputs": [
    {
     "data": {
      "text/plain": [
       "False"
      ]
     },
     "execution_count": 21,
     "metadata": {},
     "output_type": "execute_result"
    }
   ],
   "source": [
    "#1\n",
    "x > z"
   ]
  },
  {
   "cell_type": "code",
   "execution_count": 22,
   "id": "7416948e",
   "metadata": {},
   "outputs": [
    {
     "data": {
      "text/plain": [
       "True"
      ]
     },
     "execution_count": 22,
     "metadata": {},
     "output_type": "execute_result"
    }
   ],
   "source": [
    "#2\n",
    "x == y"
   ]
  },
  {
   "cell_type": "code",
   "execution_count": 23,
   "id": "ef8ec97b",
   "metadata": {},
   "outputs": [
    {
     "data": {
      "text/plain": [
       "False"
      ]
     },
     "execution_count": 23,
     "metadata": {},
     "output_type": "execute_result"
    }
   ],
   "source": [
    "#3\n",
    "(x < y) and (x > y)"
   ]
  },
  {
   "cell_type": "code",
   "execution_count": 25,
   "id": "3086b399",
   "metadata": {},
   "outputs": [
    {
     "data": {
      "text/plain": [
       "False"
      ]
     },
     "execution_count": 25,
     "metadata": {},
     "output_type": "execute_result"
    }
   ],
   "source": [
    "#4\n",
    "(x < y) or (x > y)"
   ]
  },
  {
   "cell_type": "code",
   "execution_count": 26,
   "id": "88da397a",
   "metadata": {},
   "outputs": [
    {
     "data": {
      "text/plain": [
       "True"
      ]
     },
     "execution_count": 26,
     "metadata": {},
     "output_type": "execute_result"
    }
   ],
   "source": [
    "#5\n",
    "(x <= y) and (x >= y)"
   ]
  },
  {
   "cell_type": "code",
   "execution_count": 27,
   "id": "6cd5d045",
   "metadata": {},
   "outputs": [
    {
     "data": {
      "text/plain": [
       "True"
      ]
     },
     "execution_count": 27,
     "metadata": {},
     "output_type": "execute_result"
    }
   ],
   "source": [
    "#6\n",
    "True and ((x < z) or (x < y))"
   ]
  },
  {
   "cell_type": "code",
   "execution_count": 28,
   "id": "491f7a53",
   "metadata": {},
   "outputs": [
    {
     "data": {
      "text/plain": [
       "True"
      ]
     },
     "execution_count": 28,
     "metadata": {},
     "output_type": "execute_result"
    }
   ],
   "source": [
    "#7\n",
    "all(ls)"
   ]
  },
  {
   "cell_type": "markdown",
   "id": "b16a9623",
   "metadata": {},
   "source": [
    "# Markdown cells :)\n",
    "\n",
    "text\n",
    "\n",
    "header\n",
    "--\n",
    "\n",
    "another header\n",
    "=\n",
    "\n",
    "*emphasis*  \n",
    "_also emphasis_\n",
    "\n",
    "**more emphasis**  \n",
    "__also more emphasis__\n",
    "\n",
    "~~strike through~~\n"
   ]
  },
  {
   "cell_type": "markdown",
   "id": "c1634ee7",
   "metadata": {},
   "source": [
    "# Markdown lists\n",
    "\n",
    "1. eggs\n",
    "2. milk\n",
    "3. meat\n",
    "    1. beef\n",
    "    2. pork\n",
    "    \n",
    "# Unordered lists\n",
    "\n",
    "* eggs\n",
    "- milk\n",
    "+ meat\n",
    "    * beef\n",
    "    - pork\n",
    "\n",
    "# Links\n",
    "\n",
    "textbook URL https://datascience.quantecon.org\n",
    "\n",
    "hyperlink: [textbook](https://datascience.quantecon.org)\n",
    "\n",
    "footnote: [textbook][1]\n",
    "\n",
    "[1]:https://datascience.quantecon.org\n",
    "\n",
    "\n",
    "# Pictures\n",
    "\n",
    "![picture](link)\n",
    "\n",
    "![picture][2]  \n",
    "\n",
    "[2]:link\n",
    "\n",
    "# Code\n",
    "\n",
    "`print('hello world')`\n",
    "\n",
    "# Latex\n",
    "\n",
    "use `$` to delimit latex equations\n",
    "\n",
    "$ y_t = \\alpha + \\beta X_t $\n",
    "$ y_t = a +b E_t \\frac{y_t+1}{R_t} $"
   ]
  },
  {
   "cell_type": "code",
   "execution_count": null,
   "id": "070232aa",
   "metadata": {},
   "outputs": [],
   "source": []
  }
 ],
 "metadata": {
  "kernelspec": {
   "display_name": "Python 3 (ipykernel)",
   "language": "python",
   "name": "python3"
  },
  "language_info": {
   "codemirror_mode": {
    "name": "ipython",
    "version": 3
   },
   "file_extension": ".py",
   "mimetype": "text/x-python",
   "name": "python",
   "nbconvert_exporter": "python",
   "pygments_lexer": "ipython3",
   "version": "3.9.7"
  }
 },
 "nbformat": 4,
 "nbformat_minor": 5
}
